{
 "cells": [
  {
   "cell_type": "markdown",
   "id": "operational-argument",
   "metadata": {},
   "source": [
    "# 2017 Dataset\n",
    "\n",
    "This dataset differs from the 2015 dataset in that the network data is stored as pcap files rather than csv files. The only problem with this dataset is that it contains no attack data. However, it will be useful as a training dataset. Pcap files are much more generalisable than csv files. The problem with the pcap files is that I need to clean the data myself! The pcap files have been converted to flows using Argus - it is these files that will be loaded here."
   ]
  },
  {
   "cell_type": "code",
   "execution_count": 1,
   "id": "monthly-proceeding",
   "metadata": {},
   "outputs": [],
   "source": [
    "import os\n",
    "import pandas as pd\n",
    "import numpy as np\n",
    "import pprint\n",
    "from IPython.display import Markdown, display\n",
    "from datetime import datetime\n",
    "from datetime import timezone\n",
    "\n",
    "##local python file holding the paths to the directories I store the log files in\n",
    "import directories_to_use"
   ]
  },
  {
   "cell_type": "markdown",
   "id": "outside-distribution",
   "metadata": {},
   "source": [
    "### Load data into Dataframe"
   ]
  },
  {
   "cell_type": "code",
   "execution_count": 31,
   "id": "champion-thermal",
   "metadata": {},
   "outputs": [
    {
     "name": "stderr",
     "output_type": "stream",
     "text": [
      "E:\\ProgramData\\Anaconda2\\envs\\SWaT\\lib\\site-packages\\IPython\\core\\interactiveshell.py:3357: DtypeWarning: Columns (20,21,107) have mixed types.Specify dtype option on import or set low_memory=False.\n",
      "  if (await self.run_code(code, result,  async_=asy)):\n",
      "E:\\ProgramData\\Anaconda2\\envs\\SWaT\\lib\\site-packages\\IPython\\core\\interactiveshell.py:3357: DtypeWarning: Columns (107) have mixed types.Specify dtype option on import or set low_memory=False.\n",
      "  if (await self.run_code(code, result,  async_=asy)):\n"
     ]
    },
    {
     "name": "stdout",
     "output_type": "stream",
     "text": [
      "(2682823, 118)\n"
     ]
    }
   ],
   "source": [
    "\"\"\"\n",
    "Read Argus text files into one single dataframe\n",
    "\"\"\"\n",
    "def readDataIntoDataframe(argus_text_files_dir):\n",
    "    first_time = True\n",
    "    for t_file in os.listdir(argus_text_files_dir):\n",
    "        if first_time:\n",
    "            data2017_df = pd.read_csv(argus_text_files_dir + t_file)\n",
    "            date = removeDateFromName(t_file)\n",
    "            data2017_df[\"StartTime\"] = data2017_df[\"StartTime\"].apply(lambda x : date + x)\n",
    "            data2017_df[\"LastTime\"] = data2017_df[\"LastTime\"].apply(lambda x : date + x)\n",
    "            first_time = False\n",
    "        else:\n",
    "            temp_df = pd.read_csv(argus_text_files_dir + t_file)\n",
    "            date = removeDateFromName(t_file)\n",
    "            temp_df[\"StartTime\"] = temp_df[\"StartTime\"].apply(lambda x : date + x)\n",
    "            temp_df[\"LastTime\"] = temp_df[\"LastTime\"].apply(lambda x : date + x)\n",
    "            data2017_df = pd.concat([data2017_df, temp_df], ignore_index=True)\n",
    "    return data2017_df\n",
    "\n",
    "def removeDateFromName(filename):\n",
    "    year = a.split(\"_\")[-1][0:4]\n",
    "    month = a.split(\"_\")[-1][4:6]\n",
    "    day = a.split(\"_\")[-1][6:8]\n",
    "    full_date = day +\"-\"+ month +\"-\"+ year + \" \"\n",
    "    return full_date\n",
    "\n",
    "data2017_df = readDataIntoDataframe(argus_text_files_dir)\n",
    "print(data2017_df.shape)"
   ]
  },
  {
   "cell_type": "markdown",
   "id": "inclusive-repair",
   "metadata": {},
   "source": [
    "### Clean data (i.e. remove columns that are unhelpful)"
   ]
  },
  {
   "cell_type": "code",
   "execution_count": 32,
   "id": "waiting-bridal",
   "metadata": {},
   "outputs": [
    {
     "name": "stdout",
     "output_type": "stream",
     "text": [
      "Shape before:  (2682823, 118)\n",
      "Shape after:  (2682823, 70)\n",
      "Shape before:  (2682823, 70)\n",
      "Shape after:  (2682823, 59)\n"
     ]
    }
   ],
   "source": [
    "\"\"\"\n",
    "Loops through all the columns in the dataframe and removes any that only contain nans\n",
    "\"\"\"\n",
    "def removeNanColumns(dataframe):\n",
    "    print(\"Shape before: \", dataframe.shape)\n",
    "    for col in dataframe:\n",
    "        unique_vals = dataframe[col].unique()\n",
    "        if unique_vals.shape[0] == 1:\n",
    "            if np.isnan(unique_vals[0]):\n",
    "                dataframe = dataframe.drop([col], axis=1)\n",
    "    print(\"Shape after: \", dataframe.shape)\n",
    "    return dataframe\n",
    "\n",
    "\"\"\"\n",
    "Remove columns that only contain one unique value.\n",
    "\"\"\"\n",
    "def removeSingleColumns(dataframe):\n",
    "    print(\"Shape before: \", dataframe.shape)\n",
    "    for col in dataframe:\n",
    "        unique_vals = dataframe[col].unique()\n",
    "        if unique_vals.shape[0] == 1:\n",
    "            dataframe = dataframe.drop([col], axis=1)\n",
    "    print(\"Shape after: \", dataframe.shape)\n",
    "    return dataframe\n",
    "\"\"\"\n",
    "Prints the columns in a dataframe and all its unique values\n",
    "\"\"\"\n",
    "def printColumnsAndUniqueVals(dataframe):\n",
    "    pp = pprint.PrettyPrinter(indent=4)\n",
    "    for col in dataframe.columns:\n",
    "        printmd(\"**\" + col + \"**: \" + str(dataframe[col].unique()))\n",
    "        \n",
    "\"\"\"\n",
    "Basically prints in markdown form, can also render HTML\n",
    "\"\"\"\n",
    "def printmd(string):\n",
    "    display(Markdown(string))\n",
    "\n",
    "data2017_df = removeNanColumns(data2017_df)\n",
    "data2017_df = removeSingleColumns(data2017_df)\n",
    "                \n",
    "            "
   ]
  },
  {
   "cell_type": "code",
   "execution_count": 47,
   "id": "serial-fifth",
   "metadata": {},
   "outputs": [
    {
     "data": {
      "text/plain": [
       "StartTime      0.00000\n",
       "LastTime       0.00000\n",
       "Flgs           0.00000\n",
       "Seq            0.00000\n",
       "Dur            0.00000\n",
       "RunTime        0.00000\n",
       "IdleTime       0.00000\n",
       "Mean           0.00000\n",
       "Sum            0.00000\n",
       "Min            0.00000\n",
       "Max            0.00000\n",
       "SrcAddr        0.00000\n",
       "DstAddr        0.00000\n",
       "Proto          0.00000\n",
       "Sport          0.00000\n",
       "Dport          0.00000\n",
       "sTos           0.00000\n",
       "sDSb           0.00000\n",
       "sTtl           0.00000\n",
       "dTtl          31.48648\n",
       "sHops          0.00000\n",
       "dHops         31.48648\n",
       "sIpId          0.00000\n",
       "Cause          0.00000\n",
       "TotPkts        0.00000\n",
       "SrcPkts        0.00000\n",
       "DstPkts        0.00000\n",
       "TotBytes       0.00000\n",
       "SrcBytes       0.00000\n",
       "DstBytes       0.00000\n",
       "Load           0.00000\n",
       "SrcLoad        0.00000\n",
       "DstLoad        0.00000\n",
       "Loss           0.00000\n",
       "SrcLoss        0.00000\n",
       "DstLoss        0.00000\n",
       "pLoss          0.00000\n",
       "SrcGap         0.00000\n",
       "DstGap         0.00000\n",
       "Rate           0.00000\n",
       "SrcRate        0.00000\n",
       "DstRate        0.00000\n",
       "Dir            0.00000\n",
       "State          0.00000\n",
       "TcpRtt         0.00000\n",
       "SynAck         0.00000\n",
       "AckDat         0.00000\n",
       "Offset         0.00000\n",
       "sMeanPktSz     0.00000\n",
       "dMeanPktSz     0.00000\n",
       "dtype: float64"
      ]
     },
     "execution_count": 47,
     "metadata": {},
     "output_type": "execute_result"
    }
   ],
   "source": [
    "\"\"\"Print columns and the percentage of nans present in each column\"\"\"\n",
    "data2017_mod_df.isnull().mean() * 100"
   ]
  },
  {
   "cell_type": "markdown",
   "id": "novel-smoke",
   "metadata": {},
   "source": [
    "## Calculated changes made to the dataset\n",
    "### Drop Columns\n",
    "- **Inode** is an IP Address, so very difficult to replace. Also >90% of the values were missing - so will drop it.\n",
    "- **TcpOpt** is 99% Nan so will drop that column\n",
    "- **SrcTCPBase** and **DstTCPBase** are 43% missing and they refer to the base sequence number in a TCP transaction. As they are specifically related to TCP, it's not a surprise that there would be values missing since not all the traffic is TCP related. Can't replace with mean as not all traffic is TCP - if I replace with 0, it will skew data. Will have to remove the columns \n",
    "- **SrcWin** and **DstWin** seem to refer to jitter. They are quite useful but with 43% of values being Nans means that it might be misleading to include them. Will have to remove them. \n",
    "- **dTos** and **dDSb** can be removed as their only unique values are 0 and nan.\n",
    "- **sIpId** and **dIpId** are not necessary. It is unique IDs that tie src, dst and port. As they contain nulls and are difficult to simply impute. They can be removed since we have all the individual elements that make up the IDs. <br>\n",
    "\n",
    "### Drop Rows\n",
    "- **SPort** and **Dport** can not be safely replaced/imputed without causing inconsistencies. Will remove rows that lack these fields - this makes up 10% of the dataset\n",
    "- **sHops**, **sTtl** and **sDSb** contains only 0.5% (after removing rows from above) of nan values to might as well remove rows containing Nans for this.\n",
    "\n",
    "### Replace with 0\n",
    "- **SrcGap** and **DstGap** is 43% nan but refers to bytes missing from the stream, therefore, when Nan, we can just replace with 0. \n",
    "- **sTos** refers to Type of Service (whether traffic should take precedence etc.). Nans can be set to 0 for these fields.\n",
    "\n",
    "### Imputed\n",
    "- **dhops** will need to be imputed. Values are either 0 or 1.\n",
    "- **dTtl** will also need to be imputed.\n"
   ]
  },
  {
   "cell_type": "code",
   "execution_count": 46,
   "id": "random-sleeve",
   "metadata": {},
   "outputs": [],
   "source": [
    "\"\"\"\n",
    "Drop columns with too many nulls\n",
    "\"\"\"\n",
    "def dropChosenColumns(dataframe, column_names):\n",
    "    for column in column_names: \n",
    "        dataframe = dataframe.drop([column], axis=1)\n",
    "    return dataframe\n",
    "        \n",
    "\"\"\"\n",
    "Replace Nans with 0\n",
    "\"\"\"\n",
    "def replaceNansWithZero(dataframe, column_names):\n",
    "    for column in column_names:\n",
    "        dataframe[column] = dataframe[column].fillna(0)\n",
    "    return dataframe\n",
    "\n",
    "\"\"\"\n",
    "Remove rows with nans for chosen columns\n",
    "\"\"\"\n",
    "def removeNanRows(dataframe, column_names):\n",
    "    for column in column_names:\n",
    "        dataframe = dataframe[dataframe[column].notna()]\n",
    "    return dataframe\n",
    "\n",
    "data2017_mod_df = data2017_df.copy(deep=True)\n",
    "data2017_mod_df = dropChosenColumns(data2017_mod_df, ['TcpOpt', 'Inode', 'SrcWin', 'DstWin', 'dTos', 'dDSb', 'SrcTCPBase', 'DstTCPBase', 'dIpId'])\n",
    "data2017_mod_df = removeNanRows(data2017_mod_df, ['Sport', 'Dport', 'sIpId', 'sHops', 'sTtl', 'sDSb'])\n",
    "data2017_mod_df = replaceNansWithZero(data2017_mod_df, ['SrcGap', 'DstGap', 'sTos'])"
   ]
  },
  {
   "cell_type": "markdown",
   "id": "roman-interpretation",
   "metadata": {},
   "source": [
    "## Convert all data to numeric form so that it can be passed to ML classifiers\n",
    "- **StartTime** and **LastTime** need to be converted to timestamps - though they will not be included in the classification\n",
    "- **SrcAddr** and **DstAddr** need to be converted to unique values. \n",
    "- **Sport** and **Dport** needs to be cast from string and checked for hex (which would also have to be cast).\n",
    "- **Flgs**, **Dir**, **Cause**, and **State** need to be converted to integers.\n"
   ]
  },
  {
   "cell_type": "code",
   "execution_count": 20,
   "id": "blond-newton",
   "metadata": {},
   "outputs": [
    {
     "data": {
      "text/plain": [
       "0           0\n",
       "1           1\n",
       "2           0\n",
       "3           2\n",
       "4           0\n",
       "           ..\n",
       "2682818    11\n",
       "2682819    11\n",
       "2682820    11\n",
       "2682821    11\n",
       "2682822    11\n",
       "Name: SrcAddr, Length: 2682823, dtype: int64"
      ]
     },
     "execution_count": 20,
     "metadata": {},
     "output_type": "execute_result"
    }
   ],
   "source": [
    "\"\"\"\n",
    "Needs to know the category e.g. IPs and value to add to the dict of dicts (unique_vals)\n",
    "Returns: the unique int assigned to the value\n",
    "\"\"\"\n",
    "def convertToNum(category, val, unique_vals):\n",
    "    if category not in unique_vals:\n",
    "        unique_vals[category] = {}\n",
    "    if val.strip() not in unique_vals[category].keys():\n",
    "        new_val = len(unique_vals[category].keys())\n",
    "        unique_vals[category][val.strip()] = len(unique_vals[category].keys())\n",
    "        return new_val\n",
    "    else:\n",
    "        return unique_vals[category][val.strip()]\n",
    "    \n",
    "\"\"\"\n",
    "Port numbers are a special case. They're integers stored as strings.\n",
    "They are either hex numbers or standard int strings - therefore, we \n",
    "need to check for hex before casting.\n",
    "\"\"\"  \n",
    "def convertPortToNum(val):\n",
    "    isHex = '0x' in val\n",
    "    if isHex:\n",
    "        return int(val, base=16)\n",
    "    else:\n",
    "        return int(val)\n",
    "    \n",
    "    \n",
    "\n",
    "\"\"\"\n",
    "Takes a string in the following format:\n",
    "14-06-2017 11:25:58.288831\n",
    "Returns: Timestamp\n",
    "\"\"\"\n",
    "def createTimestamp(datetime_string):\n",
    "    row_date = datetime.strptime(datetime_string, \"%d-%m-%Y %H:%M:%S.%f\")\n",
    "    print(row_date)\n",
    "    timestamp = row_date.replace(tzinfo=timezone.utc).timestamp()\n",
    "    return timestamp\n",
    "\n",
    "unique_vals = dict()\n",
    "\n",
    "data2017_mod_df[\"\"]\n",
    "data2017_mod_df[\"StartTime\"] = data2017_mod_df[\"StartTime\"].apply(lambda x: createTimestamp(x))\n",
    "data2017_mod_df[\"LastTime\"] = data2017_mod_df[\"LastTime\"].apply(lambda x: createTimestamp(x))\n",
    "data2017_mod_df[\"SrcAddr\"] = data2017_mod_df[\"SrcAddr\"].apply(lambda x : convertToNum(\"ips\", x, unique_vals))\n",
    "data2017_mod_df[\"DstAddr\"] = data2017_mod_df[\"DstAddr\"].apply(lambda x : convertToNum(\"ips\", x, unique_vals))\n",
    "data2017_mod_df[\"Cause\"] = data2017_mod_df[\"Cause\"].apply(lambda x : convertToNum(\"cause\", x, unique_vals))\n",
    "data2017_mod_df[\"State\"] = data2017_mod_df[\"State\"].apply(lambda x : convertToNum(\"state\", x, unique_vals))\n",
    "data2017_mod_df[\"Flgs\"] = data2017_mod_df[\"Flgs\"].apply(lambda x : convertToNum(\"flgs\", x, unique_vals))\n",
    "data2017_mod_df[\"Dir\"] = data2017_mod_df[\"Dir\"].apply(lambda x : convertToNum(\"dir\", x, unique_vals))\n",
    "\n",
    "#Dir #need to figure out what the heck this is\n",
    "\n"
   ]
  },
  {
   "cell_type": "code",
   "execution_count": 49,
   "id": "historic-criticism",
   "metadata": {},
   "outputs": [
    {
     "data": {
      "text/markdown": [
       "**StartTime**: ['14-06-2017 03:51:05.288831' '14-06-2017 03:51:05.289017'\n",
       " '14-06-2017 03:51:05.289227' ... '14-06-2017 08:25:07.388376'\n",
       " '14-06-2017 08:25:07.638394' '14-06-2017 08:25:07.756867']"
      ],
      "text/plain": [
       "<IPython.core.display.Markdown object>"
      ]
     },
     "metadata": {},
     "output_type": "display_data"
    },
    {
     "data": {
      "text/markdown": [
       "**LastTime**: ['14-06-2017 03:51:10.284546' '14-06-2017 03:51:10.280258'\n",
       " '14-06-2017 03:51:10.288606' ... '14-06-2017 08:25:07.664191'\n",
       " '14-06-2017 08:25:07.638394' '14-06-2017 08:25:07.834927']"
      ],
      "text/plain": [
       "<IPython.core.display.Markdown object>"
      ]
     },
     "metadata": {},
     "output_type": "display_data"
    },
    {
     "data": {
      "text/markdown": [
       "**Flgs**: [' e g      ' ' e        ' ' e i      ' ' e s      ' ' e r      '\n",
       " ' e d      ' ' eU       ' ' e &      ' ' e     A  ' ' e *      ']"
      ],
      "text/plain": [
       "<IPython.core.display.Markdown object>"
      ]
     },
     "metadata": {},
     "output_type": "display_data"
    },
    {
     "data": {
      "text/markdown": [
       "**Seq**: [    1     2     3 ... 12059 12061 12063]"
      ],
      "text/plain": [
       "<IPython.core.display.Markdown object>"
      ]
     },
     "metadata": {},
     "output_type": "display_data"
    },
    {
     "data": {
      "text/markdown": [
       "**Dur**: [4.995715 4.991427 4.999589 ... 0.80031  0.503049 0.275815]"
      ],
      "text/plain": [
       "<IPython.core.display.Markdown object>"
      ]
     },
     "metadata": {},
     "output_type": "display_data"
    },
    {
     "data": {
      "text/markdown": [
       "**RunTime**: [4.995715 4.991427 4.999589 ... 0.80031  0.503049 0.275815]"
      ],
      "text/plain": [
       "<IPython.core.display.Markdown object>"
      ]
     },
     "metadata": {},
     "output_type": "display_data"
    },
    {
     "data": {
      "text/markdown": [
       "**IdleTime**: [1.61470387e+09 1.61470400e+09 1.61470413e+09 1.61470426e+09\n",
       " 1.61470438e+09 1.61470451e+09]"
      ],
      "text/plain": [
       "<IPython.core.display.Markdown object>"
      ]
     },
     "metadata": {},
     "output_type": "display_data"
    },
    {
     "data": {
      "text/markdown": [
       "**Mean**: [4.995715 4.991427 4.999589 ... 0.80031  0.503049 0.275815]"
      ],
      "text/plain": [
       "<IPython.core.display.Markdown object>"
      ]
     },
     "metadata": {},
     "output_type": "display_data"
    },
    {
     "data": {
      "text/markdown": [
       "**Sum**: [4.995715 4.991427 4.999589 ... 0.80031  0.503049 0.275815]"
      ],
      "text/plain": [
       "<IPython.core.display.Markdown object>"
      ]
     },
     "metadata": {},
     "output_type": "display_data"
    },
    {
     "data": {
      "text/markdown": [
       "**Min**: [4.995715 4.991427 4.999589 ... 0.80031  0.503049 0.275815]"
      ],
      "text/plain": [
       "<IPython.core.display.Markdown object>"
      ]
     },
     "metadata": {},
     "output_type": "display_data"
    },
    {
     "data": {
      "text/markdown": [
       "**Max**: [4.995715 4.991427 4.999589 ... 0.80031  0.503049 0.275815]"
      ],
      "text/plain": [
       "<IPython.core.display.Markdown object>"
      ]
     },
     "metadata": {},
     "output_type": "display_data"
    },
    {
     "data": {
      "text/markdown": [
       "**SrcAddr**: ['192.168.1.20' '192.168.1.50' '192.168.1.60' '192.168.1.10'\n",
       " '192.168.1.40' '192.168.1.30' '192.168.1.200' '192.168.1.88'\n",
       " '192.168.1.100' '192.168.1.201' '169.254.51.33' '192.168.1.207' '0.0.0.0'\n",
       " '192.168.1.99' 'fe80::642e:e552:f9aa:30f2' '192.168.1.203'\n",
       " '192.168.1.118' '::' 'fe80::bde5:69fd:5343:5e07'\n",
       " 'fe80::886:cf67:8eb2:3321' '192.168.1.202' 'fe80::4113:a1a1:3f59:c062'\n",
       " 'fe80::f9dc:d25:41bb:4154' 'fe80::d149:45fb:e5cf:32d2' '169.254.128.60'\n",
       " 'fe80::7045:cb4a:a93:29bc' '192.168.1.148' 'fe80::1b8:6560:3458:6a46'\n",
       " 'fe80::1d1d:aaf5:a142:da1b' 'fe80::d478:e605:88f0:b42b' '192.168.1.18'\n",
       " 'fe80::5054:ff:fe78:a9e0' 'fe80::5054:ff:fe72:b127' '192.168.1.38'\n",
       " '192.168.1.149' 'fe80::514a:9fa9:3159:b71' 'fe80::3a94:96ff:feff:1471'\n",
       " '192.168.1.236' 'fe80::ed2c:51f3:9758:d390' 'fe80::ca5b:76ff:fef2:51b9'\n",
       " 'fe80::66bd:862f:2049:9a55' '192.168.1.77' 'fe80::aebc:32ff:fe8b:64db'\n",
       " '169.254.109.177' 'fe80::9eeb:e8ff:fe30:6efa' '192.168.1.150'\n",
       " '192.168.1.21' '192.168.1.41' '192.168.1.61' '192.168.1.11'\n",
       " 'fe80::79ae:6c9f:249a:6e82' '169.254.110.130' 'fe80::f87a:afee:415f:b51c'\n",
       " '192.168.1.66' 'fe80::250:b6ff:fe58:8d5f' 'fe80::9eeb:e8ff:fe2c:c992'\n",
       " '192.168.1.78' 'fe80::1507:5b79:b0b:72b5' '10.0.1.169' '169.254.114.181'\n",
       " 'fe80::81fe:7b64:52e2:9b2c' '10.0.1.192' '169.254.155.44']"
      ],
      "text/plain": [
       "<IPython.core.display.Markdown object>"
      ]
     },
     "metadata": {},
     "output_type": "display_data"
    },
    {
     "data": {
      "text/markdown": [
       "**DstAddr**: ['192.168.1.50' '192.168.1.40' '192.168.1.30' '192.168.1.20'\n",
       " '192.168.1.60' '239.192.2.63' '239.192.3.127' '239.192.5.255'\n",
       " '239.192.8.127' '239.192.7.63' '192.168.1.207' '239.192.4.191'\n",
       " '192.168.1.10' '192.168.1.200' '192.168.1.88' '192.168.1.255'\n",
       " '255.255.255.255' '192.168.1.201' 'ff02::1:ff4d:803c' 'ff02::16'\n",
       " 'ff02::1:ff43:5e07' 'ff02::fb' 'ff02::2' 'ff02::1:2' '239.255.255.250'\n",
       " '224.0.0.251' 'ff02::1:3' '224.0.0.252' 'ff02::1:ff59:c062'\n",
       " 'ff02::1:ffbb:4154' 'fe80::4113:a1a1:3f59:c062'\n",
       " 'fe80::f9dc:d25:41bb:4154' '169.254.255.255' 'ff02::1:ff93:29bc'\n",
       " 'ff02::1:ff58:6a46' 'fe80::7045:cb4a:a93:29bc' 'ff02::1:ffcf:32d2'\n",
       " 'ff02::1:ffaa:30f2' 'ff02::1:ff42:da1b' 'ff02::1:fff0:b42b'\n",
       " 'fe80::d478:e605:88f0:b42b' '192.168.1.203' 'fe80::d149:45fb:e5cf:32d2'\n",
       " 'fe80::642e:e552:f9aa:30f2' '192.168.1.148' 'ff02::1:ffff:1471'\n",
       " 'ff02::1:ff58:d390' 'ff02::1:fff2:51b9' 'ff02::1:ff49:9a55'\n",
       " 'ff02::1:ff8b:64db' '192.168.1.99' '192.168.1.77' 'ff02::1:ff30:6efa'\n",
       " 'fe80::aebc:32ff:fe8b:64db' 'fe80::9eeb:e8ff:fe30:6efa' '192.168.255.255'\n",
       " '192.168.1.150' 'ff02::1:ff9a:6e82' 'ff02::1' '169.254.110.130'\n",
       " 'ff02::1:ff58:8d5f' '192.168.1.11' '192.168.1.21' '192.168.1.41'\n",
       " '192.168.1.51' '192.168.1.61' '192.168.1.100' 'ff02::1:ff2c:c992'\n",
       " '192.168.1.78' 'ff02::1:ff0b:72b5' 'ff02::c' 'fe80::1507:5b79:b0b:72b5'\n",
       " '10.0.1.255' '169.254.114.181' 'ff02::1:ffe2:9b2c' '169.254.155.44']"
      ],
      "text/plain": [
       "<IPython.core.display.Markdown object>"
      ]
     },
     "metadata": {},
     "output_type": "display_data"
    },
    {
     "data": {
      "text/markdown": [
       "**Proto**: [ 6 17 58  1]"
      ],
      "text/plain": [
       "<IPython.core.display.Markdown object>"
      ]
     },
     "metadata": {},
     "output_type": "display_data"
    },
    {
     "data": {
      "text/markdown": [
       "**Sport**: ['56790' '44818' '56784' ... '49735' '64782' '49957']"
      ],
      "text/plain": [
       "<IPython.core.display.Markdown object>"
      ]
     },
     "metadata": {},
     "output_type": "display_data"
    },
    {
     "data": {
      "text/markdown": [
       "**Dport**: ['44818' '55872' '2222' ... '65471' '64729' '0xeff2']"
      ],
      "text/plain": [
       "<IPython.core.display.Markdown object>"
      ]
     },
     "metadata": {},
     "output_type": "display_data"
    },
    {
     "data": {
      "text/markdown": [
       "**sTos**: [  0.  16. 154.  54.   6.  90.  50.  85.  94.  26. 219. 192.  18. 107.\n",
       "   2. 213.   7. 236.  20. 112.  77. 237. 166. 201.  22.  60.  83.]"
      ],
      "text/plain": [
       "<IPython.core.display.Markdown object>"
      ]
     },
     "metadata": {},
     "output_type": "display_data"
    },
    {
     "data": {
      "text/markdown": [
       "**sDSb**: [ 0.  4. 38. 13.  1. 22. 12. 21. 23.  6. 54. 48. 26. 53. 59.  5. 28. 19.\n",
       " 41. 50. 15. 20.]"
      ],
      "text/plain": [
       "<IPython.core.display.Markdown object>"
      ]
     },
     "metadata": {},
     "output_type": "display_data"
    },
    {
     "data": {
      "text/markdown": [
       "**sTtl**: [ 64.   1. 128. 255.   4.]"
      ],
      "text/plain": [
       "<IPython.core.display.Markdown object>"
      ]
     },
     "metadata": {},
     "output_type": "display_data"
    },
    {
     "data": {
      "text/markdown": [
       "**dTtl**: [ 64.  nan 128. 255.]"
      ],
      "text/plain": [
       "<IPython.core.display.Markdown object>"
      ]
     },
     "metadata": {},
     "output_type": "display_data"
    },
    {
     "data": {
      "text/markdown": [
       "**sHops**: [0. 1.]"
      ],
      "text/plain": [
       "<IPython.core.display.Markdown object>"
      ]
     },
     "metadata": {},
     "output_type": "display_data"
    },
    {
     "data": {
      "text/markdown": [
       "**dHops**: [ 0. nan  1.]"
      ],
      "text/plain": [
       "<IPython.core.display.Markdown object>"
      ]
     },
     "metadata": {},
     "output_type": "display_data"
    },
    {
     "data": {
      "text/markdown": [
       "**sIpId**: ['0x1688' '0x0546' '0x0d97' ... '0xc4d7' '0x71f1' '0x518b']"
      ],
      "text/plain": [
       "<IPython.core.display.Markdown object>"
      ]
     },
     "metadata": {},
     "output_type": "display_data"
    },
    {
     "data": {
      "text/markdown": [
       "**Cause**: ['Start' 'Status']"
      ],
      "text/plain": [
       "<IPython.core.display.Markdown object>"
      ]
     },
     "metadata": {},
     "output_type": "display_data"
    },
    {
     "data": {
      "text/markdown": [
       "**TotPkts**: [6337 2330 5568 ... 5071 1215  570]"
      ],
      "text/plain": [
       "<IPython.core.display.Markdown object>"
      ]
     },
     "metadata": {},
     "output_type": "display_data"
    },
    {
     "data": {
      "text/markdown": [
       "**SrcPkts**: [3169 1165 2784 ...  285  294  292]"
      ],
      "text/plain": [
       "<IPython.core.display.Markdown object>"
      ]
     },
     "metadata": {},
     "output_type": "display_data"
    },
    {
     "data": {
      "text/markdown": [
       "**DstPkts**: [3168 1165 2784 ...  788 1059  285]"
      ],
      "text/plain": [
       "<IPython.core.display.Markdown object>"
      ]
     },
     "metadata": {},
     "output_type": "display_data"
    },
    {
     "data": {
      "text/markdown": [
       "**TotBytes**: [602012 205084 519848 ...   8348  42346    585]"
      ],
      "text/plain": [
       "<IPython.core.display.Markdown object>"
      ]
     },
     "metadata": {},
     "output_type": "display_data"
    },
    {
     "data": {
      "text/markdown": [
       "**SrcBytes**: [278916 102556 245084 ...  31068  36064  37216]"
      ],
      "text/plain": [
       "<IPython.core.display.Markdown object>"
      ]
     },
     "metadata": {},
     "output_type": "display_data"
    },
    {
     "data": {
      "text/markdown": [
       "**DstBytes**: [323096 102528 274764 ...  14668  49050   6872]"
      ],
      "text/plain": [
       "<IPython.core.display.Markdown object>"
      ]
     },
     "metadata": {},
     "output_type": "display_data"
    },
    {
     "data": {
      "text/markdown": [
       "**Load**: [963742.6875   328415.90625  831527.5625   ... 211283.328125   3678.574463\n",
       "   3103.529541]"
      ],
      "text/plain": [
       "<IPython.core.display.Markdown object>"
      ]
     },
     "metadata": {},
     "output_type": "display_data"
    },
    {
     "data": {
      "text/markdown": [
       "**SrcLoad**: [446507.4375   164230.390625 392025.8125   ...   3678.574463   4929.937012\n",
       "   3103.529541]"
      ],
      "text/plain": [
       "<IPython.core.display.Markdown object>"
      ]
     },
     "metadata": {},
     "output_type": "display_data"
    },
    {
     "data": {
      "text/markdown": [
       "**DstLoad**: [517235.25     164185.515625 439501.71875  ...  25260.240234  25556.035156\n",
       "    954.181396]"
      ],
      "text/plain": [
       "<IPython.core.display.Markdown object>"
      ]
     },
     "metadata": {},
     "output_type": "display_data"
    },
    {
     "data": {
      "text/markdown": [
       "**Loss**: [0 1 2 5 4 6 3 7]"
      ],
      "text/plain": [
       "<IPython.core.display.Markdown object>"
      ]
     },
     "metadata": {},
     "output_type": "display_data"
    },
    {
     "data": {
      "text/markdown": [
       "**SrcLoss**: [0 1 5 4 2 3]"
      ],
      "text/plain": [
       "<IPython.core.display.Markdown object>"
      ]
     },
     "metadata": {},
     "output_type": "display_data"
    },
    {
     "data": {
      "text/markdown": [
       "**DstLoss**: [0 1 6 2 5]"
      ],
      "text/plain": [
       "<IPython.core.display.Markdown object>"
      ]
     },
     "metadata": {},
     "output_type": "display_data"
    },
    {
     "data": {
      "text/markdown": [
       "**pLoss**: [0.0000000e+00 3.3333333e+01 8.7719300e-01 7.5188000e-01 3.1250000e+00\n",
       " 6.0975600e-01 8.6206900e-01 3.2258060e+00 6.8493200e-01 8.5470100e-01\n",
       " 4.6729000e-01 7.7519400e-01 7.0922000e-01 1.4705880e+00 1.1363640e+00\n",
       " 1.1904760e+00 8.2644600e-01 1.5772900e-01 5.7471300e-01 5.6179800e-01\n",
       " 7.4626900e-01 1.5220700e-01 1.5128600e-01 6.7114100e-01 2.7777780e+00\n",
       " 7.6923100e-01 2.0000000e+01 5.8479500e-01 4.7846900e-01 4.9019600e-01\n",
       " 8.6956500e-01 1.1627910e+00 1.5949000e-01 1.5243900e-01 7.1942400e-01\n",
       " 2.3419200e-01 8.1967200e-01 4.2194100e-01 1.1494250e+00 4.8780500e-01\n",
       " 4.8076900e-01 4.3668100e-01 4.8543700e-01 1.1111110e+00 6.9444400e-01\n",
       " 2.8571430e+00 6.8027200e-01 7.8740200e-01 6.1349700e-01 2.8233000e-02\n",
       " 1.4814800e-01 8.1300800e-01 4.5248900e-01 4.2372900e-01 4.7169800e-01\n",
       " 7.0422500e-01 6.2893100e-01 1.4492800e-01 4.1666700e-01 8.3333300e-01\n",
       " 6.8965500e-01 4.7393400e-01 1.4577300e-01 3.7735800e-01 1.4705900e-01\n",
       " 9.0090100e-01 8.9285700e-01 7.2992700e-01 5.9880200e-01 4.1841000e-01\n",
       " 6.9930100e-01 1.2987010e+00 4.1493800e-01 1.0869570e+00 9.0909090e+00\n",
       " 2.5000000e+01 1.3157890e+00 7.4074100e-01 2.7901800e-01 1.0490400e-01\n",
       " 1.3152100e-01 2.2935800e-01 6.4516130e+00 2.5000000e+00 1.0606061e+01\n",
       " 6.2696000e-02 4.4425000e-02 1.7470000e-02 3.5298000e-02 6.5359500e-01\n",
       " 2.3529410e+00 4.2016800e-01 4.7619000e-01 1.0638300e+00 1.4771000e-01\n",
       " 4.6948400e-01 4.8309200e-01 4.2553200e-01 7.2463800e-01 4.1322300e-01\n",
       " 7.1428600e-01 7.6335900e-01 8.8495600e-01 6.2500000e-01 1.4662800e-01\n",
       " 7.9365100e-01 4.9751200e-01 1.4881000e-01 5.9523800e-01 9.3457900e-01\n",
       " 1.1764710e+00 8.4745800e-01 6.6666700e-01 7.3529400e-01 5.5248600e-01\n",
       " 7.5757600e-01 4.2735000e-01 6.2111800e-01 6.7567600e-01 1.4285710e+00\n",
       " 1.8181820e+00 1.7857140e+00 2.0833330e+00 1.1235960e+00 1.9607840e+00\n",
       " 1.2345680e+00 5.4945100e-01 4.4843000e-01 3.5740000e-02 1.9762800e-01\n",
       " 1.8518520e+00 7.3170730e+00 2.6315790e+00 2.2442000e-02 2.8106000e-02\n",
       " 2.9949000e-02 1.6393440e+00 8.4033600e-01 1.7241380e+00 1.4084510e+00\n",
       " 9.0909100e-01 1.2195120e+00 1.9230770e+00 4.5662100e-01 4.5454500e-01\n",
       " 5.4054100e-01 1.3333330e+00 1.3888890e+00 1.5873020e+00 1.6129030e+00\n",
       " 1.5625000e+00 1.3698630e+00 1.5384620e+00 1.7543860e+00 1.6949150e+00\n",
       " 1.4492750e+00 1.5151520e+00 1.4925370e+00 1.6666670e+00 4.3103400e-01\n",
       " 4.4444400e-01 4.4642900e-01 1.4534900e-01 4.5045000e-01 2.1739130e+00\n",
       " 1.3513510e+00 6.0606100e-01 1.4367800e-01 1.4792900e-01 1.4513800e-01\n",
       " 5.1546400e-01 2.0408160e+00 6.3694300e-01 7.0572000e-02 2.6833600e-01\n",
       " 1.2004800e-01 2.2222220e+00 5.4545450e+00 5.7422000e-02 1.6889000e-02\n",
       " 5.2383000e-02 3.4710000e-02 3.3445000e-02 1.6049000e-02 4.4052900e-01\n",
       " 2.1200000e-02 3.3681000e-02 3.5398000e-02 1.6734000e-02 5.2219000e-02\n",
       " 7.8947370e+00 6.0643000e-02 6.2150000e-02 6.5638000e-02 2.1567200e-01\n",
       " 1.0989010e+00 1.4749300e-01 4.1152300e-01 1.4450900e-01 6.4102600e-01\n",
       " 1.6666667e+01 1.0309280e+00 3.8759700e-01 6.5789500e-01 4.3290000e-01\n",
       " 9.1743100e-01 1.0752690e+00 4.2918500e-01 1.2820510e+00 4.0322600e-01\n",
       " 1.0101010e+00 1.0416670e+00 4.3859600e-01 4.9505000e-01 5.0251300e-01\n",
       " 6.1728400e-01 5.3763400e-01 2.4390240e+00]"
      ],
      "text/plain": [
       "<IPython.core.display.Markdown object>"
      ]
     },
     "metadata": {},
     "output_type": "display_data"
    },
    {
     "data": {
      "text/markdown": [
       "**SrcGap**: [   62.     0.    70.    64.    74.    76.   124.    54.   622.    58.\n",
       "    90.    60.    40.    94.   158.   728.    99.    50.    56.   150.\n",
       "  1088.   136.   144.  9574. 10598.  4622.  4356.  3348.  2570.  2160.\n",
       "  9038. 15840.  3220.  1350.  1240.  9556.  9026.  5590.  3320. 10312.\n",
       "  9054.   966.   936.   108.   162.   534.   146.    95.  2818.  1774.\n",
       "    92.    98.   120.   140.   122.  1772.  1250.  1252.   730.    72.\n",
       "  2710.   180.   206.    91.   247.   185.    44.  2294.   188.    82.\n",
       "   152.]"
      ],
      "text/plain": [
       "<IPython.core.display.Markdown object>"
      ]
     },
     "metadata": {},
     "output_type": "display_data"
    },
    {
     "data": {
      "text/markdown": [
       "**DstGap**: [    0. 10991.  9395.  3173.  5229.  3347.  3547.   215. 11989. 10663.\n",
       "  4737.   929.  1799.  7067.  9989.  5817.  4635.  1025.   671.  1329.]"
      ],
      "text/plain": [
       "<IPython.core.display.Markdown object>"
      ]
     },
     "metadata": {},
     "output_type": "display_data"
    },
    {
     "data": {
      "text/markdown": [
       "**Rate**: [1268.286865  466.600037 1113.491577 ...    4.998063    7.951511\n",
       "    7.251237]"
      ],
      "text/plain": [
       "<IPython.core.display.Markdown object>"
      ]
     },
     "metadata": {},
     "output_type": "display_data"
    },
    {
     "data": {
      "text/markdown": [
       "**SrcRate**: [634.143433 233.199844 556.645752 ...   4.998063   3.975756   3.625618]"
      ],
      "text/plain": [
       "<IPython.core.display.Markdown object>"
      ]
     },
     "metadata": {},
     "output_type": "display_data"
    },
    {
     "data": {
      "text/markdown": [
       "**DstRate**: [633.943298 233.199844 556.645752 ...  23.663887  24.283089   1.987878]"
      ],
      "text/plain": [
       "<IPython.core.display.Markdown object>"
      ]
     },
     "metadata": {},
     "output_type": "display_data"
    },
    {
     "data": {
      "text/markdown": [
       "**Dir**: ['  <?>' '   ->' '  <->' '   ?>' '  <-' '  <?']"
      ],
      "text/plain": [
       "<IPython.core.display.Markdown object>"
      ]
     },
     "metadata": {},
     "output_type": "display_data"
    },
    {
     "data": {
      "text/markdown": [
       "**State**: ['CON' 'INT' 'RST' 'NNS' 'MHR' 'REQ' 'NRS' 'FIN' 'URP' 'ECO' 'URN']"
      ],
      "text/plain": [
       "<IPython.core.display.Markdown object>"
      ]
     },
     "metadata": {},
     "output_type": "display_data"
    },
    {
     "data": {
      "text/markdown": [
       "**TcpRtt**: [0.       0.000461 0.000619 ... 0.003244 0.001299 0.002061]"
      ],
      "text/plain": [
       "<IPython.core.display.Markdown object>"
      ]
     },
     "metadata": {},
     "output_type": "display_data"
    },
    {
     "data": {
      "text/markdown": [
       "**SynAck**: [0.000e+00 1.590e-04 2.140e-04 3.560e-04 1.330e-04 3.010e-04 1.610e-04\n",
       " 2.190e-04 1.690e-04 1.970e-04 1.880e-04 1.660e-04 2.240e-04 2.000e-04\n",
       " 1.760e-04 1.210e-04 2.380e-04 2.110e-04 3.000e-04 2.200e-04 1.290e-04\n",
       " 1.470e-04 2.780e-04 1.250e-04 2.030e-04 3.230e-04 2.700e-04 7.200e-05\n",
       " 2.350e-04 2.410e-04 2.270e-04 2.040e-04 2.530e-04 2.450e-04 1.920e-04\n",
       " 2.100e-04 7.000e-05 9.200e-05 2.980e-04 2.650e-04 2.320e-04 2.340e-04\n",
       " 2.090e-04 2.630e-04 1.100e-04 1.300e-04 2.710e-04 2.060e-04 1.350e-04\n",
       " 9.800e-05 1.980e-04 1.960e-04 2.150e-04 1.870e-04 1.380e-04 1.620e-04\n",
       " 1.500e-04 1.940e-04 2.470e-04 2.810e-04 2.680e-04 2.080e-04 2.860e-04\n",
       " 2.160e-04 9.090e-04 2.300e-04 1.240e-04 2.180e-04 1.820e-04 1.670e-04\n",
       " 2.490e-04 1.780e-04 1.600e-04 1.950e-04 2.210e-04 1.180e-04 2.280e-04\n",
       " 2.760e-04 1.800e-04 2.540e-04 2.570e-04 2.940e-04 1.830e-04 1.280e-04\n",
       " 2.520e-04 1.560e-04 2.580e-04 1.890e-04 2.590e-04 1.360e-04 1.400e-04\n",
       " 1.340e-04 2.550e-04 2.360e-04 7.900e-05 6.700e-05 2.170e-04 2.070e-04\n",
       " 1.770e-04 2.790e-04 1.490e-04 2.690e-04 1.900e-04 2.620e-04 1.750e-04\n",
       " 2.770e-04 1.410e-04 1.030e-04 1.640e-04 2.600e-04 3.440e-04 1.080e-04\n",
       " 1.510e-04 2.480e-04 1.730e-04 2.130e-04 2.390e-04 2.020e-04 1.480e-04\n",
       " 8.300e-05 3.060e-04 1.930e-04 1.790e-04 1.990e-04 2.290e-04 8.170e-04\n",
       " 3.430e-04 2.820e-04 1.720e-04 1.700e-04 5.300e-05 1.680e-04 3.020e-04\n",
       " 2.840e-04 2.560e-04 1.460e-04 1.130e-04 2.640e-04 2.730e-04 2.510e-04\n",
       " 2.800e-04 2.420e-04 2.610e-04 2.010e-04 1.320e-04 1.650e-04 2.440e-04\n",
       " 2.500e-04 2.910e-04 1.270e-04 1.420e-04 1.370e-04 2.050e-04 2.310e-04\n",
       " 2.460e-04 1.520e-04 8.080e-04 2.230e-04 2.900e-04 1.630e-04 1.740e-04\n",
       " 1.110e-04 4.230e-04 2.370e-04 1.910e-04 1.390e-04 8.800e-05 1.710e-04\n",
       " 7.300e-05 1.120e-04 1.090e-04 3.490e-04 8.700e-05 2.330e-04 6.600e-05\n",
       " 3.190e-04 3.150e-04 3.870e-04 3.220e-04 3.100e-04 1.810e-04 2.250e-04\n",
       " 2.850e-04 3.820e-04 9.330e-04 3.070e-04 2.400e-04 2.870e-04 2.660e-04\n",
       " 3.050e-04 6.000e-05 2.430e-04 1.000e-04 2.720e-04 2.220e-04 3.590e-04\n",
       " 7.500e-05 1.550e-04 3.160e-04 2.920e-04 2.120e-04 1.860e-04 8.490e-04\n",
       " 1.840e-04 5.900e-05 2.260e-04 1.440e-04 1.580e-04 1.260e-04 2.740e-04\n",
       " 1.570e-04 7.410e-04 2.880e-04 3.080e-04 1.070e-04 3.250e-04 1.850e-04\n",
       " 1.060e-04 4.110e-04 1.450e-04 1.170e-04 3.450e-04 7.400e-05 8.200e-05\n",
       " 9.900e-05 7.800e-05 8.730e-04 1.140e-04 1.530e-04 3.670e-04 1.310e-04\n",
       " 1.230e-04 1.050e-04 3.120e-04 1.040e-04 3.170e-04 3.130e-04 1.540e-04\n",
       " 8.860e-04 1.430e-04 1.190e-04 3.090e-04 2.990e-04 2.750e-04 3.460e-04\n",
       " 2.830e-04 3.330e-04 2.970e-04 3.200e-04 1.200e-04 3.310e-04 2.930e-04\n",
       " 8.370e-04 8.100e-05 8.000e-05 3.760e-04 2.670e-04 9.600e-05 6.500e-05\n",
       " 8.140e-04 3.140e-04 8.500e-05 1.220e-04 9.300e-05 3.180e-04 8.600e-05\n",
       " 2.960e-04 7.660e-04 6.200e-05 3.040e-04 3.540e-04 8.400e-05 8.890e-04\n",
       " 9.000e-05 3.300e-04 7.600e-05 2.890e-04 6.760e-04 9.400e-05 3.290e-04\n",
       " 9.010e-04 1.150e-04 3.380e-04 6.900e-05 6.300e-05 1.035e-03 3.570e-04\n",
       " 2.950e-04 7.880e-04 3.210e-04 8.760e-04 7.100e-05 6.400e-05 3.030e-04\n",
       " 9.070e-04 9.100e-05 1.020e-04 6.800e-05 8.880e-04 3.690e-04 3.110e-04\n",
       " 3.360e-04 8.900e-05 7.700e-05 4.140e-04 9.640e-04 8.030e-04 3.270e-04\n",
       " 1.160e-04 4.510e-04 3.960e-04 7.990e-04 3.400e-04 9.150e-04 4.020e-04\n",
       " 9.500e-05 3.420e-04 3.910e-04 3.370e-04 8.260e-04 3.700e-04 7.010e-04\n",
       " 4.900e-05 1.010e-04 3.390e-04 9.900e-04 9.240e-04 9.700e-05 3.640e-04\n",
       " 3.320e-04 3.680e-04 3.500e-04 3.890e-04 8.120e-04 3.530e-04 9.410e-04\n",
       " 3.340e-04 6.100e-05 5.600e-05 7.870e-04 8.450e-04 6.900e-04 8.670e-04\n",
       " 5.500e-05 8.350e-04 8.390e-04 3.480e-04 9.390e-04 4.000e-04 8.910e-04\n",
       " 4.370e-04 3.240e-04 3.470e-04 7.190e-04 3.280e-04 7.830e-04 3.260e-04\n",
       " 6.950e-04 3.980e-04 9.220e-04 3.510e-04 3.810e-04 7.430e-04 7.750e-04\n",
       " 3.660e-04 8.270e-04 3.790e-04 9.020e-04 3.840e-04 7.500e-04 5.800e-05\n",
       " 4.310e-04 8.510e-04 8.790e-04 8.160e-04 9.350e-04 3.650e-04 8.550e-04\n",
       " 2.700e-05 9.060e-04 1.029e-03 3.740e-04 4.120e-04 9.800e-04 7.450e-04\n",
       " 4.040e-04 8.590e-04 3.850e-04 8.020e-04 9.690e-04 3.580e-04 8.740e-04\n",
       " 5.700e-05 4.730e-04 7.090e-04 5.200e-05 3.350e-04 8.400e-04 3.830e-04\n",
       " 8.770e-04 3.720e-04 3.730e-04 8.090e-04 4.260e-04 9.320e-04 9.580e-04\n",
       " 7.460e-04 9.850e-04 4.060e-04 7.920e-04 3.410e-04 9.080e-04 8.340e-04\n",
       " 4.520e-04 9.780e-04 4.160e-04 8.470e-04 8.930e-04 8.630e-04 3.630e-04\n",
       " 3.550e-04 3.930e-04 8.610e-04 8.820e-04 8.300e-04 8.850e-04 7.140e-04\n",
       " 9.300e-04 7.560e-04 8.220e-04 9.210e-04 8.640e-04 3.620e-04 7.840e-04\n",
       " 5.320e-04 4.570e-04 8.600e-04 3.842e-03 3.610e-04 3.880e-04 3.920e-04\n",
       " 1.021e-03 7.550e-04 9.430e-04 6.840e-04 7.910e-04 8.380e-04 7.330e-04\n",
       " 8.690e-04 9.190e-04 3.770e-04 8.210e-04 7.700e-04 9.170e-04 7.900e-04\n",
       " 3.520e-04 8.750e-04 8.500e-04 7.290e-04 8.130e-04 7.540e-04 7.230e-04\n",
       " 7.610e-04 9.760e-04 2.406e-03 9.050e-04 8.920e-04 5.400e-05 9.480e-04\n",
       " 4.190e-04 3.600e-04 8.900e-04 9.120e-04 6.700e-04 4.170e-04 7.790e-04\n",
       " 9.250e-04 9.660e-04 6.970e-04 9.400e-04 8.810e-04 8.870e-04 7.850e-04\n",
       " 8.460e-04 8.040e-04 1.008e-03 4.780e-04 3.860e-04 7.770e-04 7.620e-04\n",
       " 3.750e-04 6.890e-04 9.560e-04 9.180e-04 9.420e-04 7.950e-04 3.800e-04\n",
       " 8.520e-04 1.023e-03 8.190e-04 5.820e-04 9.970e-04 9.280e-04 5.170e-04\n",
       " 4.640e-04 9.680e-04 7.680e-04 9.870e-04 4.050e-04 6.270e-04 4.540e-04\n",
       " 9.770e-04 8.050e-04 4.430e-04 8.410e-04 8.960e-04 7.780e-04 9.360e-04\n",
       " 7.070e-04 8.180e-04 7.650e-04 1.006e-03 4.090e-04 8.800e-04 4.360e-04\n",
       " 9.100e-04 6.930e-04 9.570e-04 9.440e-04 8.950e-04 9.750e-04 4.400e-05\n",
       " 8.650e-04 7.730e-04 4.390e-04 5.100e-05 9.820e-04 6.650e-04 2.609e-03\n",
       " 1.002e-03 4.820e-04 1.940e-03 3.780e-04 9.610e-04 6.810e-04 9.630e-04\n",
       " 7.100e-04 7.720e-04 9.700e-04 4.200e-05 8.680e-04 8.150e-04 9.140e-04\n",
       " 8.440e-04 4.130e-04 9.670e-04 3.970e-04 3.990e-04 8.480e-04 4.700e-05\n",
       " 8.110e-04 4.340e-04 9.710e-04 7.760e-04 1.027e-03 7.160e-04 8.250e-04\n",
       " 8.310e-04 7.890e-04 8.530e-04 9.370e-04 9.310e-04 4.470e-04 7.970e-04\n",
       " 8.940e-04 3.710e-04 3.940e-04 1.040e-03 9.510e-04 9.200e-04 4.620e-04\n",
       " 7.350e-04 8.010e-04 5.000e-05 7.630e-04 8.060e-04 9.950e-04 3.600e-05\n",
       " 4.800e-05 7.420e-04 7.520e-04 7.670e-04 4.590e-04 6.850e-04 8.360e-04\n",
       " 8.970e-04 8.070e-04 9.990e-04 9.740e-04 7.170e-04 4.785e-03 4.217e-03\n",
       " 4.030e-04 9.520e-04 9.130e-04 5.380e-04 2.600e-05 4.330e-04 2.400e-05\n",
       " 3.400e-05 4.500e-05 8.720e-04 5.430e-04 5.640e-04 2.924e-03 9.380e-04\n",
       " 7.300e-04 4.320e-04 9.590e-04 8.660e-04 3.950e-04 8.580e-04 6.600e-04\n",
       " 7.120e-04 7.940e-04 7.820e-04 1.065e-03 8.320e-04 6.490e-04 4.400e-04\n",
       " 9.530e-04 9.550e-04 1.036e-03 9.270e-04 9.260e-04 7.930e-04 9.040e-04\n",
       " 5.450e-04 4.960e-04 4.100e-05 4.850e-04 4.670e-04 3.900e-05 9.160e-04\n",
       " 8.430e-04 4.750e-04 7.640e-04 4.410e-04 7.980e-04 2.194e-03 4.010e-04\n",
       " 8.570e-04 7.740e-04 8.230e-04 4.600e-05 1.126e-03 8.700e-04 5.010e-04\n",
       " 8.780e-04 4.940e-04 2.900e-05 8.420e-04 9.340e-04 3.800e-05 9.030e-04\n",
       " 7.810e-04 8.200e-04 6.980e-04 9.230e-04 1.028e-03 7.110e-04 7.580e-04\n",
       " 9.860e-04 2.874e-03 6.220e-04 4.240e-04 1.044e-03 9.650e-04 3.900e-04\n",
       " 3.358e-03 7.320e-04 9.890e-04 4.070e-04 1.057e-03 4.000e-06 4.660e-04\n",
       " 4.650e-04 9.460e-04 1.010e-03 9.540e-04 8.240e-04 7.060e-04 5.660e-04\n",
       " 4.270e-04 8.620e-04 9.600e-04 5.210e-04 4.220e-04 4.180e-04 4.690e-04\n",
       " 7.050e-04 1.007e-03 5.990e-04 4.460e-04 8.560e-04 5.550e-04 6.940e-04\n",
       " 2.100e-05 8.980e-04 4.250e-04 8.330e-04 7.510e-04 1.030e-03 7.590e-04\n",
       " 8.290e-04 5.060e-04 4.350e-04 9.110e-04 8.540e-04 9.490e-04 5.360e-04\n",
       " 7.280e-04 2.830e-03 6.820e-04 1.900e-05 9.470e-04 1.146e-03 7.240e-04\n",
       " 1.162e-03 9.620e-04 6.830e-04 8.840e-04 1.429e-03 6.250e-04 6.320e-04\n",
       " 4.200e-04 9.500e-04 4.080e-04 9.720e-04 4.790e-04 9.910e-04 1.046e-03\n",
       " 5.020e-04 1.014e-03 4.150e-04 4.100e-04 7.690e-04 4.630e-04 2.800e-05\n",
       " 4.210e-04 7.210e-04 3.100e-05 1.253e-03 1.500e-05 5.850e-04 4.420e-04\n",
       " 4.530e-04 1.340e-03 4.703e-03 4.811e-03 2.727e-03 2.000e-06 4.085e-03\n",
       " 4.290e-04 5.047e-03 3.205e-03 4.300e-05 3.000e-05 5.130e-04 4.580e-04\n",
       " 3.700e-05 5.080e-04 4.000e-05 5.030e-04 6.070e-04 5.530e-04 5.100e-04\n",
       " 4.560e-04 1.000e-06 3.200e-05 5.970e-04 6.920e-04 3.500e-05 5.110e-04\n",
       " 1.403e-03 4.380e-04 4.300e-04 5.890e-04 6.540e-04 4.610e-04 5.690e-04\n",
       " 7.030e-04 4.860e-04 4.280e-04 3.634e-03 7.530e-04]"
      ],
      "text/plain": [
       "<IPython.core.display.Markdown object>"
      ]
     },
     "metadata": {},
     "output_type": "display_data"
    },
    {
     "data": {
      "text/markdown": [
       "**AckDat**: [0.       0.000302 0.000405 ... 0.001824 0.001104 0.000912]"
      ],
      "text/plain": [
       "<IPython.core.display.Markdown object>"
      ]
     },
     "metadata": {},
     "output_type": "display_data"
    },
    {
     "data": {
      "text/markdown": [
       "**Offset**: [    128     348     568 ... 3422928 3423140 3423352]"
      ],
      "text/plain": [
       "<IPython.core.display.Markdown object>"
      ]
     },
     "metadata": {},
     "output_type": "display_data"
    },
    {
     "data": {
      "text/markdown": [
       "**sMeanPktSz**: [ 88.013885  88.030899  88.033043 ...  88.25      88.26136  886.095215]"
      ],
      "text/plain": [
       "<IPython.core.display.Markdown object>"
      ]
     },
     "metadata": {},
     "output_type": "display_data"
    },
    {
     "data": {
      "text/markdown": [
       "**dMeanPktSz**: [101.987373  88.006866  98.693962 ... 101.861115  87.86364  286.333344]"
      ],
      "text/plain": [
       "<IPython.core.display.Markdown object>"
      ]
     },
     "metadata": {},
     "output_type": "display_data"
    }
   ],
   "source": [
    "printColumnsAndUniqueVals(data2017_mod_df)"
   ]
  },
  {
   "cell_type": "code",
   "execution_count": 52,
   "id": "interim-catering",
   "metadata": {},
   "outputs": [
    {
     "data": {
      "text/plain": [
       "56790"
      ]
     },
     "execution_count": 52,
     "metadata": {},
     "output_type": "execute_result"
    }
   ],
   "source": [
    "s = '56790'\n",
    "int(s)"
   ]
  }
 ],
 "metadata": {
  "kernelspec": {
   "display_name": "Python 3",
   "language": "python",
   "name": "python3"
  },
  "language_info": {
   "codemirror_mode": {
    "name": "ipython",
    "version": 3
   },
   "file_extension": ".py",
   "mimetype": "text/x-python",
   "name": "python",
   "nbconvert_exporter": "python",
   "pygments_lexer": "ipython3",
   "version": "3.7.10"
  }
 },
 "nbformat": 4,
 "nbformat_minor": 5
}
