{
 "cells": [
  {
   "cell_type": "markdown",
   "id": "operational-argument",
   "metadata": {},
   "source": [
    "# 2017 Dataset\n",
    "\n",
    "This dataset differs from the 2015 dataset in that the network data is stored as pcap files rather than csv files. The only problem with this dataset is that it contains no attack data. However, it will be useful as a training dataset. Pcap files are much more generalisable than csv files. The problem with the pcap files is that I need to clean the data myself! The pcap files have been converted to flows using Argus - it is these files that will be loaded here."
   ]
  },
  {
   "cell_type": "code",
   "execution_count": 104,
   "id": "monthly-proceeding",
   "metadata": {},
   "outputs": [],
   "source": [
    "import os\n",
    "import pandas as pd\n",
    "import numpy as np\n",
    "import pprint\n",
    "from IPython.display import Markdown, display\n",
    "from datetime import datetime\n",
    "from datetime import timezone\n",
    "import pickle\n",
    "\n",
    "##local python file holding the paths to the directories I store the log files in\n",
    "from directories_to_use import argus_text_files_dir, getTestingDir"
   ]
  },
  {
   "cell_type": "markdown",
   "id": "outside-distribution",
   "metadata": {},
   "source": [
    "### Load data into Dataframe\n",
    "This is largely straightforward, however, the date is stored in the name of the text file rather than the actual records so need to extract that and add that to the records."
   ]
  },
  {
   "cell_type": "code",
   "execution_count": 105,
   "id": "champion-thermal",
   "metadata": {},
   "outputs": [
    {
     "name": "stderr",
     "output_type": "stream",
     "text": [
      "E:\\ProgramData\\Anaconda2\\envs\\SWaT\\lib\\site-packages\\IPython\\core\\interactiveshell.py:3357: DtypeWarning: Columns (20,21,107) have mixed types.Specify dtype option on import or set low_memory=False.\n",
      "  if (await self.run_code(code, result,  async_=asy)):\n",
      "E:\\ProgramData\\Anaconda2\\envs\\SWaT\\lib\\site-packages\\IPython\\core\\interactiveshell.py:3357: DtypeWarning: Columns (107) have mixed types.Specify dtype option on import or set low_memory=False.\n",
      "  if (await self.run_code(code, result,  async_=asy)):\n"
     ]
    },
    {
     "name": "stdout",
     "output_type": "stream",
     "text": [
      "(2682823, 118)\n"
     ]
    }
   ],
   "source": [
    "\"\"\"\n",
    "Read Argus text files into one single dataframe\n",
    "\"\"\"\n",
    "def readDataIntoDataframe(argus_text_files_dir):\n",
    "    first_time = True\n",
    "    for t_file in os.listdir(argus_text_files_dir):\n",
    "        if first_time:\n",
    "            new_df = pd.read_csv(argus_text_files_dir + t_file)\n",
    "            date = removeDateFromName(t_file)\n",
    "            new_df[\"StartTime\"] = new_df[\"StartTime\"].apply(lambda x : date + x)\n",
    "            new_df[\"LastTime\"] = new_df[\"LastTime\"].apply(lambda x : date + x)\n",
    "            first_time = False\n",
    "        else:\n",
    "            temp_df = pd.read_csv(argus_text_files_dir + t_file)\n",
    "            date = removeDateFromName(t_file)\n",
    "            temp_df[\"StartTime\"] = temp_df[\"StartTime\"].apply(lambda x : date + x)\n",
    "            temp_df[\"LastTime\"] = temp_df[\"LastTime\"].apply(lambda x : date + x)\n",
    "            new_df = pd.concat([new_df, temp_df], ignore_index=True)\n",
    "    return new_df\n",
    "\n",
    "def removeDateFromName(filename):\n",
    "    year = filename.split(\"_\")[-1][0:4]\n",
    "    month = filename.split(\"_\")[-1][4:6]\n",
    "    day = filename.split(\"_\")[-1][6:8]\n",
    "    full_date = day +\"-\"+ month +\"-\"+ year + \" \"\n",
    "    return full_date\n",
    "\n",
    "data2017_df = readDataIntoDataframe(argus_text_files_dir)\n",
    "print(data2017_df.shape)"
   ]
  },
  {
   "cell_type": "markdown",
   "id": "inclusive-repair",
   "metadata": {},
   "source": [
    "### Clean data (i.e. remove columns that are unhelpful)\n",
    "Just removing columns that only contain Nans or only contain one unique value"
   ]
  },
  {
   "cell_type": "code",
   "execution_count": 106,
   "id": "waiting-bridal",
   "metadata": {},
   "outputs": [
    {
     "name": "stdout",
     "output_type": "stream",
     "text": [
      "Shape before:  (2682823, 118)\n",
      "Shape after:  (2682823, 70)\n",
      "Columns with only Nans: ['SrcMac', 'DstMac', 'SrcOui', 'DstOui', 'sCo', 'dCo', 'sMpls', 'dMpls', 'sAS', 'dAS', 'iAS', 'NStrok', 'sNStrok', 'dNStrok', 'SIntPkt', 'SIntDist', 'SIntPktAct', 'SIntActDist', 'SIntPktIdl', 'SIntIdlDist', 'DIntPkt', 'DIntDist', 'DIntPktAct', 'DIntActDist', 'DIntPktIdl', 'DIntIdlDist', 'SrcJitter', 'SrcJitAct', 'DstJitter', 'DstJitAct', 'Label', 'srcUdata', 'dstUdata', 'sVlan', 'dVlan', 'sVid', 'dVid', 'sVpri', 'dVpri', 'SRange', 'ERange', 'sPktSz', 'sMaxPktSz', 'dPktSz', 'dMaxPktSz', 'sMinPktSz', 'dMinPktSz', 'dMinPktSz.1']\n",
      "Shape before:  (2682823, 70)\n",
      "Shape after:  (2682823, 59)\n",
      "Columns with only one unique value: ['Trans', 'StdDev', 'AutoId', 'TotAppByte', 'SAppBytes', 'DAppBytes', 'PCRatio', 'Retrans', 'SrcRetra', 'DstRetra', 'pRetran']\n"
     ]
    }
   ],
   "source": [
    "\"\"\"\n",
    "Loops through all the columns in the dataframe and removes any that only contain nans\n",
    "\"\"\"\n",
    "def removeNanColumns(dataframe):\n",
    "    print(\"Shape before: \", dataframe.shape)\n",
    "    columns_removed = []\n",
    "    for col in dataframe:\n",
    "        unique_vals = dataframe[col].unique()\n",
    "        if unique_vals.shape[0] == 1:\n",
    "            if np.isnan(unique_vals[0]):\n",
    "                dataframe = dataframe.drop([col], axis=1)\n",
    "                columns_removed.append(col)\n",
    "    print(\"Shape after: \", dataframe.shape)\n",
    "    print(\"Columns with only Nans: \" + str(columns_removed))\n",
    "    return dataframe\n",
    "\n",
    "\"\"\"\n",
    "Remove columns that only contain one unique value.\n",
    "\"\"\"\n",
    "def removeSingleColumns(dataframe):\n",
    "    print(\"Shape before: \", dataframe.shape)\n",
    "    columns_removed = []\n",
    "    for col in dataframe:\n",
    "        unique_vals = dataframe[col].unique()\n",
    "        if unique_vals.shape[0] == 1:\n",
    "            dataframe = dataframe.drop([col], axis=1)\n",
    "            columns_removed.append(col)\n",
    "    print(\"Shape after: \", dataframe.shape)\n",
    "    print(\"Columns with only one unique value: \" + str(columns_removed))\n",
    "    return dataframe\n",
    "\"\"\"\n",
    "Prints the columns in a dataframe and all its unique values\n",
    "\"\"\"\n",
    "def printColumnsAndUniqueVals(dataframe):\n",
    "    pp = pprint.PrettyPrinter(indent=4)\n",
    "    for col in dataframe.columns:\n",
    "        printmd(\"**\" + col + \"**: \" + str(dataframe[col].unique()))\n",
    "        \n",
    "\"\"\"\n",
    "Basically prints in markdown form, can also render HTML\n",
    "\"\"\"\n",
    "def printmd(string):\n",
    "    display(Markdown(string))\n",
    "\n",
    "data2017_df = removeNanColumns(data2017_df)\n",
    "data2017_df = removeSingleColumns(data2017_df)\n",
    "                \n",
    "            "
   ]
  },
  {
   "cell_type": "code",
   "execution_count": 107,
   "id": "embedded-advantage",
   "metadata": {},
   "outputs": [
    {
     "data": {
      "text/plain": [
       "StartTime      0.000000\n",
       "LastTime       0.000000\n",
       "Flgs           0.000000\n",
       "Seq            0.000000\n",
       "Dur            0.000000\n",
       "RunTime        0.000000\n",
       "IdleTime       0.000000\n",
       "Mean           0.000000\n",
       "Sum            0.000000\n",
       "Min            0.000000\n",
       "Max            0.000000\n",
       "SrcAddr        0.000000\n",
       "DstAddr        0.000000\n",
       "Proto          0.000000\n",
       "Sport         10.424169\n",
       "Dport         10.424169\n",
       "sTos          10.826022\n",
       "dTos          38.928733\n",
       "sDSb          10.826022\n",
       "dDSb          38.928733\n",
       "sTtl          10.826022\n",
       "dTtl          38.928733\n",
       "sHops         10.826022\n",
       "dHops         38.928733\n",
       "sIpId         10.826022\n",
       "dIpId         38.928733\n",
       "Cause          0.000000\n",
       "TotPkts        0.000000\n",
       "SrcPkts        0.000000\n",
       "DstPkts        0.000000\n",
       "TotBytes       0.000000\n",
       "SrcBytes       0.000000\n",
       "DstBytes       0.000000\n",
       "Load           0.000000\n",
       "SrcLoad        0.000000\n",
       "DstLoad        0.000000\n",
       "Loss           0.000000\n",
       "SrcLoss        0.000000\n",
       "DstLoss        0.000000\n",
       "pLoss          0.000000\n",
       "SrcGap        43.607573\n",
       "DstGap        43.607573\n",
       "Rate           0.000000\n",
       "SrcRate        0.000000\n",
       "DstRate        0.000000\n",
       "Dir            0.000000\n",
       "State          0.000000\n",
       "SrcWin        43.607983\n",
       "DstWin        43.637430\n",
       "SrcTCPBase    43.607573\n",
       "DstTCPBase    43.611375\n",
       "TcpRtt         0.000000\n",
       "SynAck         0.000000\n",
       "AckDat         0.000000\n",
       "TcpOpt        95.110635\n",
       "Inode         99.920010\n",
       "Offset         0.000000\n",
       "sMeanPktSz     0.000000\n",
       "dMeanPktSz     0.000000\n",
       "dtype: float64"
      ]
     },
     "execution_count": 107,
     "metadata": {},
     "output_type": "execute_result"
    }
   ],
   "source": [
    "\"\"\"Print columns and the percentage of nans present in each column\"\"\"\n",
    "data2017_df.isnull().mean() * 100"
   ]
  },
  {
   "cell_type": "markdown",
   "id": "atmospheric-numbers",
   "metadata": {},
   "source": [
    "## Calculated changes made to the dataset\n",
    "### Drop Columns\n",
    "- **Inode** is an IP Address, so very difficult to replace. Also >90% of the values were missing - so will drop it.\n",
    "- **TcpOpt** is 99% Nan so will drop that column\n",
    "- **SrcTCPBase** and **DstTCPBase** are 43% missing and they refer to the base sequence number in a TCP transaction. As they are specifically related to TCP, it's not a surprise that there would be values missing since not all the traffic is TCP related. Can't replace with mean as not all traffic is TCP - if I replace with 0, it will skew data. Will have to remove the columns \n",
    "- **SrcWin** and **DstWin** seem to refer to jitter. They are quite useful but with 43% of values being Nans means that it might be misleading to include them. Will have to remove them. \n",
    "- **dTos** and **dDSb** can be removed as their only unique values are 0 and nan.\n",
    "- **sIpId** and **dIpId** are not necessary. It is unique IDs that tie src, dst and port. As they contain nulls and are difficult to simply impute. They can be removed since we have all the individual elements that make up the IDs.\n",
    "- **sVid** and **dVid** can be removed since sVLan and dVLan are the same thing, which is VLAN ID.\n",
    "- **seq** can cause the classification to overfit as it's just an Argus sequence number\n",
    "\n",
    "### Drop Rows\n",
    "- **SPort** and **Dport** can not be safely replaced/imputed without causing inconsistencies. Will remove rows that lack these fields - this makes up 10% of the dataset\n",
    "- **sHops**, **sTtl** and **sDSb** contains only 0.5% (after removing rows from above) of nan values to might as well remove rows containing Nans for this.\n",
    "\n",
    "### Replace with 0\n",
    "- **SrcGap** and **DstGap** is 43% nan but refers to bytes missing from the stream, therefore, when Nan, we can just replace with 0. \n",
    "- **sTos** refers to Type of Service (whether traffic should take precedence etc.). Nans can be set to 0 for these fields.\n",
    "\n",
    "### Imputed\n",
    "- **dHops** will need to be imputed. Values are either 0 or 1.\n",
    "- **dTtl** will also need to be imputed.\n",
    "- **TODO** currently going to remove the columns as they contain 40% Nans. Will attempt to impute them at a later stage and determine if it affects the classification result. \n"
   ]
  },
  {
   "cell_type": "code",
   "execution_count": 108,
   "id": "ordinary-nancy",
   "metadata": {},
   "outputs": [
    {
     "data": {
      "text/plain": [
       "(2391347, 47)"
      ]
     },
     "execution_count": 108,
     "metadata": {},
     "output_type": "execute_result"
    }
   ],
   "source": [
    "\"\"\"\n",
    "Drop columns with too many nulls\n",
    "\"\"\"\n",
    "def dropChosenColumns(dataframe, column_names):\n",
    "    for column in column_names: \n",
    "        dataframe = dataframe.drop([column], axis=1)\n",
    "    return dataframe\n",
    "        \n",
    "\"\"\"\n",
    "Replace Nans with 0\n",
    "\"\"\"\n",
    "def replaceNansWithZero(dataframe, column_names):\n",
    "    for column in column_names:\n",
    "        dataframe[column] = dataframe[column].fillna(0)\n",
    "    return dataframe\n",
    "\n",
    "\"\"\"\n",
    "Remove rows with nans for chosen columns\n",
    "\"\"\"\n",
    "def removeNanRows(dataframe, column_names):\n",
    "    for column in column_names:\n",
    "        dataframe = dataframe[dataframe[column].notna()]\n",
    "    return dataframe\n",
    "\n",
    "data2017_df = dropChosenColumns(data2017_df, ['TcpOpt', 'Inode', 'SrcWin', 'DstWin', 'dTos', 'dDSb', 'SrcTCPBase', 'DstTCPBase', 'dIpId', 'dHops', 'dTtl', 'Seq'])\n",
    "data2017_df = removeNanRows(data2017_df, ['Sport', 'Dport', 'sIpId', 'sHops', 'sTtl', 'sDSb'])\n",
    "data2017_df = replaceNansWithZero(data2017_df, ['SrcGap', 'DstGap', 'sTos'])\n",
    "data2017_df.shape"
   ]
  },
  {
   "cell_type": "markdown",
   "id": "fabulous-mason",
   "metadata": {},
   "source": [
    "## Convert all data to numeric form so that it can be passed to ML classifiers\n",
    "- **StartTime** and **LastTime** need to be converted to timestamps - though they will not be included in the classification\n",
    "- **SrcAddr** and **DstAddr** need to be converted to unique values. \n",
    "- **Sport** and **Dport** needs to be cast from string and checked for hex (which would also have to be cast).\n",
    "- **Flgs**, **Dir**, **Cause**, and **State** need to be converted to integers.\n"
   ]
  },
  {
   "cell_type": "code",
   "execution_count": 109,
   "id": "viral-generation",
   "metadata": {},
   "outputs": [
    {
     "name": "stdout",
     "output_type": "stream",
     "text": [
      "(2391347, 47)\n"
     ]
    }
   ],
   "source": [
    "\"\"\"\n",
    "Needs to know the category e.g. IPs and value to add to the dict of dicts (unique_vals)\n",
    "Returns: the unique int assigned to the value\n",
    "\"\"\"\n",
    "def convertToNum(category, val, unique_vals):\n",
    "    if category not in unique_vals:\n",
    "        unique_vals[category] = {}\n",
    "    if val.strip() not in unique_vals[category].keys():\n",
    "        new_val = len(unique_vals[category].keys())\n",
    "        unique_vals[category][val.strip()] = len(unique_vals[category].keys())\n",
    "        return new_val\n",
    "    else:\n",
    "        return unique_vals[category][val.strip()]\n",
    "    \n",
    "\"\"\"\n",
    "Port numbers are a special case. They're integers stored as strings.\n",
    "They are either hex numbers or standard int strings - therefore, we \n",
    "need to check for hex before casting.\n",
    "\"\"\"  \n",
    "def convertPortToNum(val):\n",
    "    if type(val) == str:\n",
    "        isHex = '0x' in val\n",
    "    elif type(val) == float:\n",
    "        isHex = False\n",
    "    if isHex:\n",
    "        return int(val, base=16)\n",
    "    else:\n",
    "        return int(val)\n",
    "    \n",
    "    \n",
    "\n",
    "\"\"\"\n",
    "Takes a string in the following format:\n",
    "14-06-2017 11:25:58.288831\n",
    "Returns: Timestamp\n",
    "\"\"\"\n",
    "def createTimestamp(datetime_string):\n",
    "    row_date = datetime.strptime(datetime_string, \"%d-%m-%Y %H:%M:%S.%f\")\n",
    "    timestamp = row_date.replace(tzinfo=timezone.utc).timestamp()\n",
    "    return timestamp\n",
    "\n",
    "unique_vals = dict()\n",
    "\n",
    "data2017_df[\"Sport\"] = data2017_df[\"Sport\"].apply(lambda x : convertPortToNum(x))\n",
    "data2017_df[\"Dport\"] = data2017_df[\"Dport\"].apply(lambda x : convertPortToNum(x))\n",
    "data2017_df[\"sIpId\"] = data2017_df[\"sIpId\"].apply(lambda x : convertPortToNum(x))\n",
    "data2017_df[\"StartTime\"] = data2017_df[\"StartTime\"].apply(lambda x: createTimestamp(x))\n",
    "data2017_df[\"LastTime\"] = data2017_df[\"LastTime\"].apply(lambda x: createTimestamp(x))\n",
    "data2017_df[\"SrcAddr\"] = data2017_df[\"SrcAddr\"].apply(lambda x : convertToNum(\"ips\", x, unique_vals))\n",
    "data2017_df[\"DstAddr\"] = data2017_df[\"DstAddr\"].apply(lambda x : convertToNum(\"ips\", x, unique_vals))\n",
    "#data2017_df[\"Cause\"] = data2017_df[\"Cause\"].apply(lambda x : convertToNum(\"cause\", x, unique_vals))\n",
    "#data2017_df[\"State\"] = data2017_df[\"State\"].apply(lambda x : convertToNum(\"state\", x, unique_vals))\n",
    "#data2017_df[\"Flgs\"] = data2017_df[\"Flgs\"].apply(lambda x : convertToNum(\"flgs\", x, unique_vals))\n",
    "data2017_df[\"Dir\"] = data2017_df[\"Dir\"].apply(lambda x : convertToNum(\"dir\", x, unique_vals))\n",
    "print(data2017_df.shape)\n"
   ]
  },
  {
   "cell_type": "markdown",
   "id": "beneficial-lewis",
   "metadata": {},
   "source": [
    "## Load in malicious data from 2019 Dataset"
   ]
  },
  {
   "cell_type": "code",
   "execution_count": 110,
   "id": "eastern-technique",
   "metadata": {},
   "outputs": [
    {
     "name": "stdout",
     "output_type": "stream",
     "text": [
      "(4503102, 118)\n"
     ]
    }
   ],
   "source": [
    "data2019_df = readDataIntoDataframe(getTestingDir())\n",
    "print(data2019_df.shape)"
   ]
  },
  {
   "cell_type": "markdown",
   "id": "thick-testing",
   "metadata": {},
   "source": [
    "## Reduce Feature set so that both datasets have the same amount of features"
   ]
  },
  {
   "cell_type": "code",
   "execution_count": 111,
   "id": "cognitive-server",
   "metadata": {},
   "outputs": [
    {
     "name": "stdout",
     "output_type": "stream",
     "text": [
      "(4503102, 47)\n"
     ]
    }
   ],
   "source": [
    "\"\"\"\n",
    "Takes in two dataframes and makes sure that the columns\n",
    "of test_df are the same as those of train_df. Returns a\n",
    "modified dataframe.\n",
    "\"\"\"\n",
    "def alignToTrainingData(train_df, test_df):\n",
    "    for col in test_df.columns:\n",
    "        if col not in train_df.columns:\n",
    "            test_df = test_df.drop([col], axis=1)\n",
    "    return test_df\n",
    "\n",
    "#data2019_mod_df = data2019_df.copy(deep=True)\n",
    "data2019_df = alignToTrainingData(data2017_df, data2019_df)\n",
    "print(data2019_df.shape)"
   ]
  },
  {
   "cell_type": "markdown",
   "id": "comfortable-history",
   "metadata": {},
   "source": [
    "### Check for any remaning Nans"
   ]
  },
  {
   "cell_type": "code",
   "execution_count": 9,
   "id": "foreign-feedback",
   "metadata": {
    "scrolled": false
   },
   "outputs": [
    {
     "data": {
      "text/plain": [
       "StartTime     0.000000\n",
       "LastTime      0.000000\n",
       "Flgs          0.000000\n",
       "Dur           0.000000\n",
       "RunTime       0.000000\n",
       "IdleTime      0.000000\n",
       "Mean          0.000000\n",
       "Sum           0.000000\n",
       "Min           0.000000\n",
       "Max           0.000000\n",
       "SrcAddr       0.000000\n",
       "DstAddr       0.000000\n",
       "Proto         0.000000\n",
       "Sport         0.529946\n",
       "Dport         0.529946\n",
       "sTos          0.438520\n",
       "sDSb          0.438520\n",
       "sTtl          0.438520\n",
       "sHops         0.438520\n",
       "sIpId         0.438520\n",
       "Cause         0.000000\n",
       "TotPkts       0.000000\n",
       "SrcPkts       0.000000\n",
       "DstPkts       0.000000\n",
       "TotBytes      0.000000\n",
       "SrcBytes      0.000000\n",
       "DstBytes      0.000000\n",
       "Load          0.000000\n",
       "SrcLoad       0.000000\n",
       "DstLoad       0.000000\n",
       "Loss          0.000000\n",
       "SrcLoss       0.000000\n",
       "DstLoss       0.000000\n",
       "pLoss         0.000000\n",
       "SrcGap        1.956163\n",
       "DstGap        1.956163\n",
       "Rate          0.000000\n",
       "SrcRate       0.000000\n",
       "DstRate       0.000000\n",
       "Dir           0.000000\n",
       "State         0.000000\n",
       "TcpRtt        0.000000\n",
       "SynAck        0.000000\n",
       "AckDat        0.000000\n",
       "Offset        0.000000\n",
       "sMeanPktSz    0.000000\n",
       "dMeanPktSz    0.000000\n",
       "dtype: float64"
      ]
     },
     "execution_count": 9,
     "metadata": {},
     "output_type": "execute_result"
    }
   ],
   "source": [
    "#pd.options.display.max_rows = 4000\n",
    "data2019_df.isnull().mean() * 100"
   ]
  },
  {
   "cell_type": "markdown",
   "id": "injured-tract",
   "metadata": {},
   "source": [
    "### Remove any rows that contain Nans (provided the percentage of nans is not large <2%)"
   ]
  },
  {
   "cell_type": "code",
   "execution_count": 112,
   "id": "second-hollow",
   "metadata": {},
   "outputs": [],
   "source": [
    "data2019_df = removeNanRows(data2019_df, ['SrcGap', 'DstGap', 'Sport', 'Dport', 'sIpId', 'sHops', 'sTtl', 'sDSb'])"
   ]
  },
  {
   "cell_type": "markdown",
   "id": "cosmetic-maria",
   "metadata": {},
   "source": [
    "### Convert all non-numeric fields to numbers"
   ]
  },
  {
   "cell_type": "code",
   "execution_count": 113,
   "id": "armed-arctic",
   "metadata": {},
   "outputs": [],
   "source": [
    "data2019_df[\"Sport\"] = data2019_df[\"Sport\"].apply(lambda x : convertPortToNum(x))\n",
    "data2019_df[\"Dport\"] = data2019_df[\"Dport\"].apply(lambda x : convertPortToNum(x))\n",
    "data2019_df[\"sIpId\"] = data2019_df[\"sIpId\"].apply(lambda x : convertPortToNum(x))\n",
    "data2019_df[\"StartTime\"] = data2019_df[\"StartTime\"].apply(lambda x: createTimestamp(x))\n",
    "data2019_df[\"LastTime\"] = data2019_df[\"LastTime\"].apply(lambda x: createTimestamp(x))\n",
    "data2019_df[\"SrcAddr\"] = data2019_df[\"SrcAddr\"].apply(lambda x : convertToNum(\"ips\", x, unique_vals))\n",
    "data2019_df[\"DstAddr\"] = data2019_df[\"DstAddr\"].apply(lambda x : convertToNum(\"ips\", x, unique_vals))\n",
    "#data2019_df[\"Cause\"] = data2019_df[\"Cause\"].apply(lambda x : convertToNum(\"cause\", x, unique_vals))\n",
    "#data2019_df[\"State\"] = data2019_df[\"State\"].apply(lambda x : convertToNum(\"state\", x, unique_vals))\n",
    "#data2019_df[\"Flgs\"] = data2019_df[\"Flgs\"].apply(lambda x : convertToNum(\"flgs\", x, unique_vals))\n",
    "data2019_df[\"Dir\"] = data2019_df[\"Dir\"].apply(lambda x : convertToNum(\"dir\", x, unique_vals))"
   ]
  },
  {
   "cell_type": "markdown",
   "id": "contemporary-colonial",
   "metadata": {},
   "source": [
    "### Add a new column representing whether the traffic is malicious or benign. \n",
    "0 is benign and 1 is malicious <br>\n",
    "Go through time period of attack and set the value to 1. <br>\n",
    "**Note** the time period was adjusted due to different time zones"
   ]
  },
  {
   "cell_type": "code",
   "execution_count": 114,
   "id": "apart-newspaper",
   "metadata": {},
   "outputs": [],
   "source": [
    "data2019_df[\"Classification\"] = 0\n",
    "data2017_df[\"Classification\"] = 0"
   ]
  },
  {
   "cell_type": "code",
   "execution_count": 115,
   "id": "reasonable-amount",
   "metadata": {},
   "outputs": [],
   "source": [
    "first_attack = (data2019_df[\"StartTime\"] >= createTimestamp(\"06-12-2019 02:20:00.00\")) & (data2019_df[\"StartTime\"] < createTimestamp(\"06-12-2019 03:30:00.00\"))\n",
    "data2019_df.loc[first_attack, \"Classification\"] = 1\n",
    "\n",
    "second_attack = (data2019_df[\"StartTime\"] >= createTimestamp(\"06-12-2019 04:30:00.00\")) & (data2019_df[\"StartTime\"] <= createTimestamp(\"06-12-2019 05:45:00.00\"))\n",
    "data2019_df.loc[second_attack, \"Classification\"] = 1"
   ]
  },
  {
   "cell_type": "code",
   "execution_count": 117,
   "id": "therapeutic-hands",
   "metadata": {},
   "outputs": [
    {
     "name": "stdout",
     "output_type": "stream",
     "text": [
      "(6806361, 48)\n"
     ]
    }
   ],
   "source": [
    "data_full_df = pd.concat([data2017_df, data2019_df], ignore_index=True, sort=False)\n",
    "print(data_full_df.shape)"
   ]
  },
  {
   "cell_type": "markdown",
   "id": "ignored-ecology",
   "metadata": {},
   "source": [
    "## Need to convert the Flags to a one-hot encoding\n",
    "Must be done manually due to the way it needs to be done.\n",
    "Will need to load the 2017 and 2019 datasets before doing this."
   ]
  },
  {
   "cell_type": "code",
   "execution_count": 118,
   "id": "streaming-browser",
   "metadata": {},
   "outputs": [
    {
     "name": "stdout",
     "output_type": "stream",
     "text": [
      "['e g', 'e', 'e i', 'e s', 'e r', 'e d', 'eU', 'e &', 'e     A', 'e *', '* *', '* d', '*', '* s', '* r']\n",
      "['e', 'g', 'i', 's', 'r', 'd', 'U', '&', 'A', '*', '*2']\n"
     ]
    }
   ],
   "source": [
    "unique_flags = []\n",
    "def add_unique(flags_str):\n",
    "    if flags_str not in unique_flags:\n",
    "        unique_flags.append(flags_str)\n",
    "        return flags_str\n",
    "    \n",
    "individual_flags = []\n",
    "def extractIndividualFlags(unique_flags):\n",
    "    for flag_str in unique_flags:\n",
    "        flag_list = flag_str.split(\" \")\n",
    "        for flag in flag_list:\n",
    "            if (flag != \"\") and (flag not in individual_flags):\n",
    "                individual_flags.extend([char for char in flag if char not in individual_flags])\n",
    "                \n",
    "data_full_df[\"Flgs\"].apply(lambda x : add_unique(x.strip()))\n",
    "print(unique_flags)\n",
    "extractIndividualFlags(unique_flags)\n",
    "#Ugly but needs to be done manually. This is also a possible unique value.\n",
    "individual_flags.append(\"*2\")\n",
    "print(individual_flags)"
   ]
  },
  {
   "cell_type": "code",
   "execution_count": 119,
   "id": "hourly-evaluation",
   "metadata": {},
   "outputs": [
    {
     "name": "stdout",
     "output_type": "stream",
     "text": [
      "      StartTime      LastTime        Flgs       Dur   RunTime      IdleTime  \\\n",
      "0  1.497412e+09  1.497412e+09   e g        4.995715  4.995715  1.614704e+09   \n",
      "1  1.497412e+09  1.497412e+09   e          4.991427  4.991427  1.614704e+09   \n",
      "2  1.497412e+09  1.497412e+09   e g        4.999589  4.999589  1.614704e+09   \n",
      "3  1.497412e+09  1.497412e+09   e          4.990616  4.990616  1.614704e+09   \n",
      "4  1.497412e+09  1.497412e+09   e          4.999010  4.999010  1.614704e+09   \n",
      "\n",
      "       Mean       Sum       Min       Max  ...  Flg-g  Flg-i  Flg-s  Flg-r  \\\n",
      "0  4.995715  4.995715  4.995715  4.995715  ...      0      0      0      0   \n",
      "1  4.991427  4.991427  4.991427  4.991427  ...      0      0      0      0   \n",
      "2  4.999589  4.999589  4.999589  4.999589  ...      0      0      0      0   \n",
      "3  4.990616  4.990616  4.990616  4.990616  ...      0      0      0      0   \n",
      "4  4.999010  4.999010  4.999010  4.999010  ...      0      0      0      0   \n",
      "\n",
      "   Flg-d  Flg-U  Flg-&  Flg-A  Flg-*  Flg-*2  \n",
      "0      0      0      0      0      0       0  \n",
      "1      0      0      0      0      0       0  \n",
      "2      0      0      0      0      0       0  \n",
      "3      0      0      0      0      0       0  \n",
      "4      0      0      0      0      0       0  \n",
      "\n",
      "[5 rows x 59 columns]\n"
     ]
    }
   ],
   "source": [
    "def add_new_columns(df, individual_flags):\n",
    "    for flg in individual_flags:\n",
    "        df[\"Flg-\"+flg] = 0\n",
    "    return df\n",
    "\n",
    "add_new_columns(data_full_df, individual_flags)\n",
    "print(data_full_df.head())"
   ]
  },
  {
   "cell_type": "code",
   "execution_count": 120,
   "id": "secondary-empire",
   "metadata": {},
   "outputs": [],
   "source": [
    "def convertFlagToNum(row, flg_str):\n",
    "    flg_str = flg_str.replace(\" \", \"\")\n",
    "    for flg_char in flg_str:\n",
    "        if flg_char != '*':\n",
    "            row[\"Flg-\" + flg_char] = 1\n",
    "        else:\n",
    "            if len(flg_str) == 1:\n",
    "                row[\"Flg-*\"] = 1\n",
    "            else:\n",
    "                if flg_str.count(\"*\") == 2:\n",
    "                    row[\"Flg-*\"] = 1\n",
    "                    row[\"Flg-*2\"] = 1\n",
    "                elif flg_str.index(\"*\") != 0:\n",
    "                    row[\"Flg-*2\"] = 1\n",
    "                elif flg_str.index(\"*\") == 0:\n",
    "                    row[\"Flg-*\"] = 1\n",
    "    return row\n",
    "                    \n",
    "data_full_df = data_full_df.apply(lambda x : convertFlagToNum(x, x.Flgs), axis=1)\n",
    "            "
   ]
  },
  {
   "cell_type": "code",
   "execution_count": 121,
   "id": "thick-nothing",
   "metadata": {},
   "outputs": [],
   "source": [
    "data_full_df = data_full_df.drop([\"Flgs\"], axis=1)"
   ]
  },
  {
   "cell_type": "code",
   "execution_count": 122,
   "id": "appreciated-cargo",
   "metadata": {},
   "outputs": [],
   "source": [
    "cause_full = pd.get_dummies(data_full_df[\"Cause\"])\n",
    "data_full_df = data_full_df.drop([\"Cause\"], axis=1)\n",
    "data_full_df = data_full_df.join(cause_full)"
   ]
  },
  {
   "cell_type": "code",
   "execution_count": 123,
   "id": "initial-maine",
   "metadata": {},
   "outputs": [],
   "source": [
    "state_full = pd.get_dummies(data_full_df[\"State\"])\n",
    "data_full_df = data_full_df.drop([\"State\"], axis=1)\n",
    "data_full_df = data_full_df.join(state_full)"
   ]
  },
  {
   "cell_type": "code",
   "execution_count": 132,
   "id": "deluxe-folks",
   "metadata": {},
   "outputs": [],
   "source": [
    "cols = data_full_df.columns\n",
    "cols_list = list(cols)\n",
    "cols_list.remove(\"Classification\")\n",
    "cols_list.append(\"Classification\")\n",
    "data_full_df = data_full_df[cols_list]"
   ]
  },
  {
   "cell_type": "code",
   "execution_count": 134,
   "id": "continued-christmas",
   "metadata": {},
   "outputs": [],
   "source": [
    "data_full_df.to_csv(\"data_full_df.csv\", index=False)"
   ]
  },
  {
   "cell_type": "code",
   "execution_count": 137,
   "id": "addressed-generation",
   "metadata": {},
   "outputs": [],
   "source": [
    "data_full_arr = data_full_df.to_numpy()\n",
    "np.save(\"data_full_df.npy\", data_full_arr)"
   ]
  },
  {
   "cell_type": "markdown",
   "id": "prostate-conditions",
   "metadata": {},
   "source": [
    "### Convert to numpy arrays and save\n",
    "This will allow us to actually only load the arrays and unloading everything else (should help with memory issues)"
   ]
  },
  {
   "cell_type": "code",
   "execution_count": 14,
   "id": "chemical-hawaii",
   "metadata": {},
   "outputs": [],
   "source": [
    "data2019_arr = data2019_df.to_numpy()\n",
    "data2017_arr = data2017_df.to_numpy()"
   ]
  },
  {
   "cell_type": "code",
   "execution_count": 15,
   "id": "architectural-mercury",
   "metadata": {},
   "outputs": [],
   "source": [
    "np.save('data2019_arr.npy', data2019_arr)\n",
    "np.save('data2017_arr.npy', data2017_arr)"
   ]
  },
  {
   "cell_type": "code",
   "execution_count": 135,
   "id": "double-challenge",
   "metadata": {},
   "outputs": [],
   "source": [
    "\"\"\"\n",
    "This code is taken straight from: https://stackoverflow.com/questions/19201290/how-to-save-a-dictionary-to-a-file/32216025\n",
    "\"\"\"\n",
    "\n",
    "def save_obj(obj, name ):\n",
    "    with open('obj/'+ name + '.pkl', 'wb+') as f:\n",
    "        pickle.dump(obj, f, pickle.HIGHEST_PROTOCOL)\n",
    "\n",
    "def load_obj(name ):\n",
    "    with open('obj/' + name + '.pkl', 'rb') as f:\n",
    "        return pickle.load(f)"
   ]
  },
  {
   "cell_type": "code",
   "execution_count": 17,
   "id": "understood-orlando",
   "metadata": {},
   "outputs": [],
   "source": [
    "save_obj(unique_vals, \"unique_vals\")"
   ]
  },
  {
   "cell_type": "code",
   "execution_count": 18,
   "id": "located-korea",
   "metadata": {},
   "outputs": [],
   "source": [
    "data2017_df.to_csv('data2017.csv', index=False)"
   ]
  },
  {
   "cell_type": "code",
   "execution_count": 19,
   "id": "correct-glory",
   "metadata": {},
   "outputs": [],
   "source": [
    "data2019_df.to_csv('data2019.csv', index=False)"
   ]
  },
  {
   "cell_type": "code",
   "execution_count": 136,
   "id": "spatial-religion",
   "metadata": {},
   "outputs": [],
   "source": [
    "features = list(data_full_df.columns)\n",
    "save_obj(features, 'features')"
   ]
  },
  {
   "cell_type": "code",
   "execution_count": 265,
   "id": "productive-aquarium",
   "metadata": {},
   "outputs": [],
   "source": [
    "import json\n",
    "ip_dict_reversed = {}\n",
    "for ip, num in unique_vals[\"ips\"].items():\n",
    "    ip_dict_reversed[num] = ip\n",
    "\n",
    "with open('ipdict.json', 'w+') as fp:\n",
    "    json.dump(ip_dict_reversed, fp)"
   ]
  },
  {
   "cell_type": "markdown",
   "id": "subtle-queens",
   "metadata": {},
   "source": [
    "## Make Plots\n",
    "Dataframes seem better suited to making plots - so I'll start making plots here. Might move this to a different Notebook eventually. "
   ]
  },
  {
   "cell_type": "code",
   "execution_count": 130,
   "id": "automatic-conference",
   "metadata": {},
   "outputs": [
    {
     "data": {
      "text/plain": [
       "Index(['StartTime', 'LastTime', 'Flgs', 'Dur', 'RunTime', 'IdleTime', 'Mean',\n",
       "       'Sum', 'Min', 'Max', 'SrcAddr', 'DstAddr', 'Proto', 'Sport', 'Dport',\n",
       "       'sTos', 'sDSb', 'sTtl', 'sHops', 'sIpId', 'Cause', 'TotPkts', 'SrcPkts',\n",
       "       'DstPkts', 'TotBytes', 'SrcBytes', 'DstBytes', 'Load', 'SrcLoad',\n",
       "       'DstLoad', 'Loss', 'SrcLoss', 'DstLoss', 'pLoss', 'SrcGap', 'DstGap',\n",
       "       'Rate', 'SrcRate', 'DstRate', 'Dir', 'State', 'TcpRtt', 'SynAck',\n",
       "       'AckDat', 'Offset', 'sMeanPktSz', 'dMeanPktSz', 'Classification'],\n",
       "      dtype='object')"
      ]
     },
     "execution_count": 130,
     "metadata": {},
     "output_type": "execute_result"
    }
   ],
   "source": [
    "data_df.columns"
   ]
  },
  {
   "cell_type": "code",
   "execution_count": 245,
   "id": "chinese-store",
   "metadata": {},
   "outputs": [],
   "source": [
    "data_df = pd.concat([data2017_df, data2019_df])\n",
    "grouped_data = data_df.groupby([\"Dport\", \"DstAddr\", \"Classification\"]).agg({'TotBytes':['mean']})\n"
   ]
  },
  {
   "cell_type": "code",
   "execution_count": 246,
   "id": "detailed-maple",
   "metadata": {},
   "outputs": [],
   "source": [
    "grouped_data.columns = [\"TotBytes\"]\n",
    "grouped_data = grouped_data.reset_index()\n",
    "#grouped_data.to_csv(\"BytesPortAddr.csv\", index=False)"
   ]
  },
  {
   "cell_type": "code",
   "execution_count": 256,
   "id": "banner-metropolitan",
   "metadata": {},
   "outputs": [],
   "source": [
    "grouped_data[\"CumBytes\"] = grouped_data.groupby(['Dport', 'DstAddr'])['TotBytes'].transform('sum')\n",
    "grouped_data[\"Percent\"] = grouped_data[\"TotBytes\"] / grouped_data[\"CumBytes\"]\n",
    "grouped_data.loc[grouped_data.Classification == 0, \"Percent\"] = 1 - grouped_data.loc[grouped_data.Classification == 0, \"Percent\"]\n",
    "grouped_data = grouped_data.drop_duplicates(subset=[\"Dport\", \"DstAddr\"])"
   ]
  },
  {
   "cell_type": "code",
   "execution_count": 258,
   "id": "considerable-latino",
   "metadata": {},
   "outputs": [],
   "source": [
    "grouped_data.to_csv(\"BytesPortAddrMal.csv\", index=False)"
   ]
  },
  {
   "cell_type": "code",
   "execution_count": 257,
   "id": "employed-capital",
   "metadata": {},
   "outputs": [
    {
     "data": {
      "text/html": [
       "<div>\n",
       "<style scoped>\n",
       "    .dataframe tbody tr th:only-of-type {\n",
       "        vertical-align: middle;\n",
       "    }\n",
       "\n",
       "    .dataframe tbody tr th {\n",
       "        vertical-align: top;\n",
       "    }\n",
       "\n",
       "    .dataframe thead th {\n",
       "        text-align: right;\n",
       "    }\n",
       "</style>\n",
       "<table border=\"1\" class=\"dataframe\">\n",
       "  <thead>\n",
       "    <tr style=\"text-align: right;\">\n",
       "      <th></th>\n",
       "      <th>Dport</th>\n",
       "      <th>DstAddr</th>\n",
       "      <th>Classification</th>\n",
       "      <th>TotBytes</th>\n",
       "      <th>CumBytes</th>\n",
       "      <th>Percent</th>\n",
       "    </tr>\n",
       "  </thead>\n",
       "  <tbody>\n",
       "    <tr>\n",
       "      <th>24578</th>\n",
       "      <td>44818</td>\n",
       "      <td>0</td>\n",
       "      <td>0</td>\n",
       "      <td>151688.358597</td>\n",
       "      <td>338525.773139</td>\n",
       "      <td>0.551915</td>\n",
       "    </tr>\n",
       "  </tbody>\n",
       "</table>\n",
       "</div>"
      ],
      "text/plain": [
       "       Dport  DstAddr  Classification       TotBytes       CumBytes   Percent\n",
       "24578  44818        0               0  151688.358597  338525.773139  0.551915"
      ]
     },
     "execution_count": 257,
     "metadata": {},
     "output_type": "execute_result"
    }
   ],
   "source": [
    "grouped_data[(grouped_data[\"DstAddr\"] == 0) & (grouped_data[\"Dport\"] == 44818)]\n"
   ]
  },
  {
   "cell_type": "code",
   "execution_count": 159,
   "id": "rough-standing",
   "metadata": {},
   "outputs": [
    {
     "data": {
      "text/plain": [
       "array([    0,     4, 49162, 49188, 49204, 49223, 49243, 49244, 49258,\n",
       "       49304, 49336, 49394, 49439, 49440, 49460, 49481, 49498, 49502,\n",
       "       49514, 49535, 49544, 49559, 49566, 49619, 49627, 49645, 49680,\n",
       "       49691, 49791, 49794, 49796, 49808, 49842, 49849, 49855, 49942,\n",
       "       50005, 50015, 50046, 50061, 50076, 50084, 50088, 50107, 50131,\n",
       "       50153, 50160, 50213, 50261, 50276, 50294, 50312, 50316, 50353,\n",
       "       50370, 50386, 50409, 50423, 50432, 50464, 50498, 50571, 50600,\n",
       "       50640, 50645, 50661, 50676, 50678, 50690, 50709, 50710, 50739,\n",
       "       50750, 50775, 50826, 50843, 50965, 50996, 51003, 51019, 51022,\n",
       "       51030, 51040, 51085, 51090, 51116, 51138, 51180, 51183, 51222,\n",
       "       51283, 51297, 51318, 51343, 51374, 51396, 51405, 51408, 51414,\n",
       "       51418, 51419, 51434, 51440, 51457, 51461, 51464, 51475, 51531,\n",
       "       51583, 51598, 51608, 51634, 51638, 51653, 51675, 51693, 51722,\n",
       "       51724, 51736, 51770, 51779, 51788, 51799, 51831, 51832, 51855,\n",
       "       51906, 51960, 52094, 52138, 52142, 52162, 52163, 52171, 52180,\n",
       "       52183, 52237, 52243, 52290, 52291, 52296, 52369, 52376, 52383,\n",
       "       52414, 52421, 52425, 52450, 52490, 52503, 52518, 52522, 52565,\n",
       "       52584, 52610, 52625, 52654, 52663, 52664, 52674, 52692, 52744,\n",
       "       52755, 52756, 52820, 52824, 52830, 52835, 52837, 52874, 52903,\n",
       "       52940, 53010, 53016, 53027, 53030, 53047, 53053, 53097, 53122,\n",
       "       53131, 53159, 53223, 53242, 53250, 53262, 53287, 53291, 53306,\n",
       "       53308, 53314, 53318, 53378, 53382, 53412, 53413, 53416, 53434,\n",
       "       53440, 53451, 53452, 53478, 53579, 53612, 53625, 53629, 53633,\n",
       "       53731, 53761, 53764, 53793, 53819, 53892, 53901, 53917, 53924,\n",
       "       53945, 53949, 53959, 53977, 54055, 54063, 54064, 54073, 54088,\n",
       "       54139, 54243, 54277, 54296, 54308, 54336, 54364, 54381, 54440,\n",
       "       54469, 54495, 54513, 54514, 54520, 54540, 54582, 54585, 54589,\n",
       "       54607, 54684, 54687, 54702, 54723, 54735, 54737, 54802, 54817,\n",
       "       54841, 54844, 54845, 54882, 54883, 54894, 54902, 54969, 55004,\n",
       "       55027, 55035, 55036, 55105, 55162, 55194, 55234, 55249, 55260,\n",
       "       55276, 55287, 55296, 55306, 55338, 55345, 55403, 55475, 55506,\n",
       "       55513, 55528, 55549, 55558, 55559, 55587, 55601, 55602, 55606,\n",
       "       55624, 55625, 55646, 55655, 55657, 55689, 55691, 55696, 55746,\n",
       "       55761, 55766, 55772, 55784, 55786, 55855, 55868, 55908, 55919,\n",
       "       55950, 55959, 55982, 55998, 56013, 56026, 56116, 56117, 56137,\n",
       "       56191, 56217, 56229, 56249, 56251, 56300, 56308, 56330, 56395,\n",
       "       56422, 56445, 56446, 56486, 56502, 56568, 56569, 56571, 56599,\n",
       "       56620, 56658, 56689, 56761, 56789, 56829, 56863, 56884, 56896,\n",
       "       56912, 56913, 56968, 56990, 57002, 57009, 57023, 57034, 57053,\n",
       "       57058, 57101, 57154, 57182, 57204, 57210, 57356, 57418, 57452,\n",
       "       57484, 57494, 57524, 57583, 57588, 57593, 57607, 57626, 57640,\n",
       "       57663, 57702, 57709, 57753, 57760, 57762, 57797, 57869, 57919,\n",
       "       57964, 57984, 57988, 57990, 58106, 58114, 58153, 58159, 58205,\n",
       "       58216, 58225, 58253, 58255, 58277, 58281, 58305, 58308, 58313,\n",
       "       58314, 58318, 58321, 58335, 58353, 58373, 58394, 58415, 58422,\n",
       "       58446, 58452, 58457, 58482, 58505, 58648, 58707, 58713, 58715,\n",
       "       58748, 58749, 58763, 58764, 58774, 58777, 58791, 58842, 58853,\n",
       "       58879, 58893, 58908, 58918, 58937, 58963, 58976, 58983, 59016,\n",
       "       59030, 59095, 59116, 59143, 59150, 59155, 59172, 59179, 59190,\n",
       "       59206, 59299, 59311, 59326, 59355, 59364, 59367, 59369, 59385,\n",
       "       59483, 59485, 59513, 59520, 59584, 59586, 59594, 59602, 59609,\n",
       "       59622, 59624, 59635, 59639, 59715, 59724, 59727, 59789, 59853,\n",
       "       59854, 59879, 59912, 59942, 59978, 60043, 60081, 60091, 60102,\n",
       "       60117, 60144, 60146, 60150, 60151, 60246, 60259, 60273, 60285,\n",
       "       60299, 60333, 60352, 60361, 60383, 60461, 60466, 60494, 60497,\n",
       "       60523, 60567, 60594, 60598, 60599, 60621, 60629, 60632, 60673,\n",
       "       60679, 60703, 60735, 60744, 60766, 60786, 60808, 60859, 60865,\n",
       "       60909, 60922, 60942, 60945, 60946, 61064, 61086, 61111, 61115,\n",
       "       61120, 61217, 61247, 61272, 61295, 61299, 61363, 61393, 61418,\n",
       "       61432, 61468, 61490, 61524, 61583, 61590, 61606, 61637, 61676,\n",
       "       61705, 61714, 61751, 61767, 61819, 61840, 61876, 61893, 61913,\n",
       "       61918, 61920, 61921, 61923, 61948, 61959, 62094, 62113, 62118,\n",
       "       62166, 62184, 62196, 62261, 62270, 62277, 62302, 62312, 62316,\n",
       "       62346, 62348, 62353, 62364, 62378, 62447, 62473, 62497, 62517,\n",
       "       62545, 62550, 62560, 62597, 62601, 62635, 62637, 62700, 62711,\n",
       "       62740, 62771, 62791, 62880, 62897, 62916, 62928, 62930, 62948,\n",
       "       62961, 62978, 63034, 63054, 63055, 63092, 63096, 63164, 63182,\n",
       "       63222, 63265, 63268, 63322, 63350, 63444, 63455, 63549, 63565,\n",
       "       63582, 63632, 63636, 63652, 63654, 63680, 63683, 63701, 63712,\n",
       "       63724, 63760, 63770, 63784, 63792, 63821, 63892, 63909, 63911,\n",
       "       63914, 63972, 63977, 64005, 64037, 64044, 64054, 64056, 64094,\n",
       "       64136, 64146, 64167, 64172, 64182, 64184, 64250, 64262, 64290,\n",
       "       64327, 64345, 64356, 64394, 64413, 64416, 64428, 64440, 64444,\n",
       "       64462, 64466, 64475, 64509, 64521, 64528, 64539, 64583, 64598,\n",
       "       64640, 64671, 64672, 64683, 64752, 64756, 64767, 64788, 64810,\n",
       "       64839, 64842, 64848, 64870, 64893, 64918, 64955, 65042, 65054,\n",
       "       65061, 65078, 65119, 65158, 65194, 65206, 65223, 65233, 65243,\n",
       "       65254, 65268, 65281, 65313, 65342, 65350, 65362, 65428, 65431,\n",
       "       65469, 65512, 65531], dtype=int64)"
      ]
     },
     "execution_count": 159,
     "metadata": {},
     "output_type": "execute_result"
    }
   ],
   "source": [
    "grouped_data[grouped_data[\"DstAddr\"] == 21][\"Dport\"].unique()"
   ]
  }
 ],
 "metadata": {
  "kernelspec": {
   "display_name": "Python 3",
   "language": "python",
   "name": "python3"
  },
  "language_info": {
   "codemirror_mode": {
    "name": "ipython",
    "version": 3
   },
   "file_extension": ".py",
   "mimetype": "text/x-python",
   "name": "python",
   "nbconvert_exporter": "python",
   "pygments_lexer": "ipython3",
   "version": "3.7.10"
  }
 },
 "nbformat": 4,
 "nbformat_minor": 5
}
